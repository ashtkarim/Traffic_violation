{
  "cells": [
    {
      "cell_type": "code",
      "execution_count": null,
      "metadata": {
        "colab": {
          "base_uri": "https://localhost:8080/"
        },
        "id": "kcKYTAg9z-_p",
        "outputId": "49553955-bd7a-412c-a07c-59a04c9dfb6c"
      },
      "outputs": [
        {
          "name": "stdout",
          "output_type": "stream",
          "text": [
            "loading Roboflow workspace...\n",
            "loading Roboflow project...\n",
            "Exporting format yolov8 in progress : 85.0%\n",
            "Version export complete for yolov8 format\n"
          ]
        },
        {
          "name": "stderr",
          "output_type": "stream",
          "text": [
            "Downloading Dataset Version Zip in Data_crossing_Augment-1 to yolov8:: 100%|██████████| 39063/39063 [00:00<00:00, 91913.42it/s]"
          ]
        },
        {
          "name": "stdout",
          "output_type": "stream",
          "text": [
            "\n"
          ]
        },
        {
          "name": "stderr",
          "output_type": "stream",
          "text": [
            "\n",
            "Extracting Dataset Version Zip to Data_crossing_Augment-1 in yolov8:: 100%|██████████| 6580/6580 [00:00<00:00, 11227.08it/s]\n"
          ]
        },
        {
          "name": "stdout",
          "output_type": "stream",
          "text": [
            "Creating new Ultralytics Settings v0.0.6 file ✅ \n",
            "View Ultralytics Settings with 'yolo settings' or at '/root/.config/Ultralytics/settings.json'\n",
            "Update Settings with 'yolo settings key=value', i.e. 'yolo settings runs_dir=path/to/dir'. For help see https://docs.ultralytics.com/quickstart/#ultralytics-settings.\n"
          ]
        }
      ],
      "source": [
        "from roboflow import Roboflow\n",
        "\n",
        "\n",
        "rf = Roboflow(api_key=<my secret key>)\n",
        "project = rf.workspace(\"gopdata-axf2f\").project(\"data_crossing_augment\")\n",
        "dataset = project.version(1).download(\"yolov8\")\n"
      ]
    },
    {
      "cell_type": "code",
      "execution_count": null,
      "metadata": {
        "colab": {
          "base_uri": "https://localhost:8080/"
        },
        "id": "3fYLSoVT0qGa",
        "outputId": "78f371f1-4a47-4ba4-88ca-a481b23ff42b"
      },
      "outputs": [
        {
          "name": "stdout",
          "output_type": "stream",
          "text": [
            "Downloading https://github.com/ultralytics/assets/releases/download/v8.3.0/yolov8n.pt to 'yolov8n.pt'...\n"
          ]
        },
        {
          "name": "stderr",
          "output_type": "stream",
          "text": [
            "100%|██████████| 6.25M/6.25M [00:00<00:00, 78.1MB/s]"
          ]
        },
        {
          "name": "stdout",
          "output_type": "stream",
          "text": [
            "Ultralytics 8.3.160 🚀 Python-3.11.13 torch-2.6.0+cpu CPU (Intel Xeon 2.00GHz)\n"
          ]
        },
        {
          "name": "stderr",
          "output_type": "stream",
          "text": [
            "\n"
          ]
        },
        {
          "name": "stdout",
          "output_type": "stream",
          "text": [
            "\u001b[34m\u001b[1mengine/trainer: \u001b[0magnostic_nms=False, amp=True, augment=False, auto_augment=randaugment, batch=16, bgr=0.0, box=7.5, cache=False, cfg=None, classes=None, close_mosaic=10, cls=0.5, conf=None, copy_paste=0.0, copy_paste_mode=flip, cos_lr=False, cutmix=0.0, data=/content/Data_crossing_Augment-1/data.yaml, degrees=0.0, deterministic=True, device=cpu, dfl=1.5, dnn=False, dropout=0.0, dynamic=False, embed=None, epochs=10, erasing=0.4, exist_ok=False, fliplr=0.5, flipud=0.0, format=torchscript, fraction=1.0, freeze=None, half=False, hsv_h=0.015, hsv_s=0.7, hsv_v=0.4, imgsz=640, int8=False, iou=0.7, keras=False, kobj=1.0, line_width=None, lr0=0.01, lrf=0.01, mask_ratio=4, max_det=300, mixup=0.0, mode=train, model=yolov8n.pt, momentum=0.937, mosaic=1.0, multi_scale=False, name=result, nbs=64, nms=False, opset=None, optimize=False, optimizer=auto, overlap_mask=True, patience=100, perspective=0.0, plots=True, pose=12.0, pretrained=True, profile=False, project=None, rect=False, resume=False, retina_masks=False, save=True, save_conf=False, save_crop=False, save_dir=runs/detect/result, save_frames=False, save_json=False, save_period=-1, save_txt=False, scale=0.5, seed=0, shear=0.0, show=False, show_boxes=True, show_conf=True, show_labels=True, simplify=True, single_cls=False, source=None, split=val, stream_buffer=False, task=detect, time=None, tracker=botsort.yaml, translate=0.1, val=True, verbose=True, vid_stride=1, visualize=False, warmup_bias_lr=0.1, warmup_epochs=3.0, warmup_momentum=0.8, weight_decay=0.0005, workers=8, workspace=None\n",
            "Overriding model.yaml nc=80 with nc=2\n",
            "\n",
            "                   from  n    params  module                                       arguments                     \n",
            "  0                  -1  1       464  ultralytics.nn.modules.conv.Conv             [3, 16, 3, 2]                 \n",
            "  1                  -1  1      4672  ultralytics.nn.modules.conv.Conv             [16, 32, 3, 2]                \n",
            "  2                  -1  1      7360  ultralytics.nn.modules.block.C2f             [32, 32, 1, True]             \n",
            "  3                  -1  1     18560  ultralytics.nn.modules.conv.Conv             [32, 64, 3, 2]                \n",
            "  4                  -1  2     49664  ultralytics.nn.modules.block.C2f             [64, 64, 2, True]             \n",
            "  5                  -1  1     73984  ultralytics.nn.modules.conv.Conv             [64, 128, 3, 2]               \n",
            "  6                  -1  2    197632  ultralytics.nn.modules.block.C2f             [128, 128, 2, True]           \n",
            "  7                  -1  1    295424  ultralytics.nn.modules.conv.Conv             [128, 256, 3, 2]              \n",
            "  8                  -1  1    460288  ultralytics.nn.modules.block.C2f             [256, 256, 1, True]           \n",
            "  9                  -1  1    164608  ultralytics.nn.modules.block.SPPF            [256, 256, 5]                 \n",
            " 10                  -1  1         0  torch.nn.modules.upsampling.Upsample         [None, 2, 'nearest']          \n",
            " 11             [-1, 6]  1         0  ultralytics.nn.modules.conv.Concat           [1]                           \n",
            " 12                  -1  1    148224  ultralytics.nn.modules.block.C2f             [384, 128, 1]                 \n",
            " 13                  -1  1         0  torch.nn.modules.upsampling.Upsample         [None, 2, 'nearest']          \n",
            " 14             [-1, 4]  1         0  ultralytics.nn.modules.conv.Concat           [1]                           \n",
            " 15                  -1  1     37248  ultralytics.nn.modules.block.C2f             [192, 64, 1]                  \n",
            " 16                  -1  1     36992  ultralytics.nn.modules.conv.Conv             [64, 64, 3, 2]                \n",
            " 17            [-1, 12]  1         0  ultralytics.nn.modules.conv.Concat           [1]                           \n",
            " 18                  -1  1    123648  ultralytics.nn.modules.block.C2f             [192, 128, 1]                 \n",
            " 19                  -1  1    147712  ultralytics.nn.modules.conv.Conv             [128, 128, 3, 2]              \n",
            " 20             [-1, 9]  1         0  ultralytics.nn.modules.conv.Concat           [1]                           \n",
            " 21                  -1  1    493056  ultralytics.nn.modules.block.C2f             [384, 256, 1]                 \n",
            " 22        [15, 18, 21]  1    751702  ultralytics.nn.modules.head.Detect           [2, [64, 128, 256]]           \n",
            "Model summary: 129 layers, 3,011,238 parameters, 3,011,222 gradients, 8.2 GFLOPs\n",
            "\n",
            "Transferred 319/355 items from pretrained weights\n",
            "Freezing layer 'model.22.dfl.conv.weight'\n",
            "\u001b[34m\u001b[1mtrain: \u001b[0mFast image access ✅ (ping: 0.0±0.0 ms, read: 624.0±224.2 MB/s, size: 12.8 KB)\n"
          ]
        },
        {
          "name": "stderr",
          "output_type": "stream",
          "text": [
            "\u001b[34m\u001b[1mtrain: \u001b[0mScanning /content/Data_crossing_Augment-1/train/labels.cache... 2874 images, 6 backgrounds, 0 corrupt: 100%|██████████| 2874/2874 [00:00<?, ?it/s]"
          ]
        },
        {
          "name": "stdout",
          "output_type": "stream",
          "text": [
            "\u001b[34m\u001b[1mval: \u001b[0mFast image access ✅ (ping: 0.0±0.0 ms, read: 452.0±149.2 MB/s, size: 10.1 KB)\n"
          ]
        },
        {
          "name": "stderr",
          "output_type": "stream",
          "text": [
            "\n",
            "\u001b[34m\u001b[1mval: \u001b[0mScanning /content/Data_crossing_Augment-1/valid/labels.cache... 273 images, 0 backgrounds, 0 corrupt: 100%|██████████| 273/273 [00:00<?, ?it/s]"
          ]
        },
        {
          "name": "stdout",
          "output_type": "stream",
          "text": [
            "Plotting labels to runs/detect/result/labels.jpg... \n"
          ]
        },
        {
          "name": "stderr",
          "output_type": "stream",
          "text": [
            "\n"
          ]
        },
        {
          "name": "stdout",
          "output_type": "stream",
          "text": [
            "\u001b[34m\u001b[1moptimizer:\u001b[0m 'optimizer=auto' found, ignoring 'lr0=0.01' and 'momentum=0.937' and determining best 'optimizer', 'lr0' and 'momentum' automatically... \n",
            "\u001b[34m\u001b[1moptimizer:\u001b[0m AdamW(lr=0.001667, momentum=0.9) with parameter groups 57 weight(decay=0.0), 64 weight(decay=0.0005), 63 bias(decay=0.0)\n",
            "Image sizes 640 train, 640 val\n",
            "Using 0 dataloader workers\n",
            "Logging results to \u001b[1mruns/detect/result\u001b[0m\n",
            "Starting training for 10 epochs...\n",
            "Closing dataloader mosaic\n",
            "\n",
            "      Epoch    GPU_mem   box_loss   cls_loss   dfl_loss  Instances       Size\n"
          ]
        },
        {
          "name": "stderr",
          "output_type": "stream",
          "text": [
            "       1/10         0G      1.456      2.552      1.991         12        640: 100%|██████████| 180/180 [09:18<00:00,  3.10s/it]\n",
            "                 Class     Images  Instances      Box(P          R      mAP50  mAP50-95): 100%|██████████| 9/9 [00:22<00:00,  2.52s/it]"
          ]
        },
        {
          "name": "stdout",
          "output_type": "stream",
          "text": [
            "                   all        273        321      0.611      0.561      0.586      0.283\n"
          ]
        },
        {
          "name": "stderr",
          "output_type": "stream",
          "text": [
            "\n"
          ]
        },
        {
          "name": "stdout",
          "output_type": "stream",
          "text": [
            "\n",
            "      Epoch    GPU_mem   box_loss   cls_loss   dfl_loss  Instances       Size\n"
          ]
        },
        {
          "name": "stderr",
          "output_type": "stream",
          "text": [
            "       2/10         0G       1.31      1.598      1.852         10        640: 100%|██████████| 180/180 [09:15<00:00,  3.08s/it]\n",
            "                 Class     Images  Instances      Box(P          R      mAP50  mAP50-95): 100%|██████████| 9/9 [00:22<00:00,  2.51s/it]"
          ]
        },
        {
          "name": "stdout",
          "output_type": "stream",
          "text": [
            "                   all        273        321       0.84      0.679      0.748      0.465\n"
          ]
        },
        {
          "name": "stderr",
          "output_type": "stream",
          "text": [
            "\n"
          ]
        },
        {
          "name": "stdout",
          "output_type": "stream",
          "text": [
            "\n",
            "      Epoch    GPU_mem   box_loss   cls_loss   dfl_loss  Instances       Size\n"
          ]
        },
        {
          "name": "stderr",
          "output_type": "stream",
          "text": [
            "       3/10         0G      1.272       1.24      1.827         12        640: 100%|██████████| 180/180 [09:16<00:00,  3.09s/it]\n",
            "                 Class     Images  Instances      Box(P          R      mAP50  mAP50-95): 100%|██████████| 9/9 [00:19<00:00,  2.19s/it]"
          ]
        },
        {
          "name": "stdout",
          "output_type": "stream",
          "text": [
            "                   all        273        321      0.756      0.684      0.717      0.459\n"
          ]
        },
        {
          "name": "stderr",
          "output_type": "stream",
          "text": [
            "\n"
          ]
        },
        {
          "name": "stdout",
          "output_type": "stream",
          "text": [
            "\n",
            "      Epoch    GPU_mem   box_loss   cls_loss   dfl_loss  Instances       Size\n"
          ]
        },
        {
          "name": "stderr",
          "output_type": "stream",
          "text": [
            "       4/10         0G      1.178      1.058       1.73         10        640: 100%|██████████| 180/180 [09:13<00:00,  3.08s/it]\n",
            "                 Class     Images  Instances      Box(P          R      mAP50  mAP50-95): 100%|██████████| 9/9 [00:22<00:00,  2.45s/it]"
          ]
        },
        {
          "name": "stdout",
          "output_type": "stream",
          "text": [
            "                   all        273        321       0.82      0.626      0.745      0.457\n"
          ]
        },
        {
          "name": "stderr",
          "output_type": "stream",
          "text": [
            "\n"
          ]
        },
        {
          "name": "stdout",
          "output_type": "stream",
          "text": [
            "\n",
            "      Epoch    GPU_mem   box_loss   cls_loss   dfl_loss  Instances       Size\n"
          ]
        },
        {
          "name": "stderr",
          "output_type": "stream",
          "text": [
            "       5/10         0G      1.071     0.8735      1.632         10        640: 100%|██████████| 180/180 [09:12<00:00,  3.07s/it]\n",
            "                 Class     Images  Instances      Box(P          R      mAP50  mAP50-95): 100%|██████████| 9/9 [00:19<00:00,  2.13s/it]"
          ]
        },
        {
          "name": "stdout",
          "output_type": "stream",
          "text": [
            "                   all        273        321       0.88      0.776       0.86      0.615\n"
          ]
        },
        {
          "name": "stderr",
          "output_type": "stream",
          "text": [
            "\n"
          ]
        },
        {
          "name": "stdout",
          "output_type": "stream",
          "text": [
            "\n",
            "      Epoch    GPU_mem   box_loss   cls_loss   dfl_loss  Instances       Size\n"
          ]
        },
        {
          "name": "stderr",
          "output_type": "stream",
          "text": [
            "       6/10         0G     0.9893     0.7705      1.546         13        640: 100%|██████████| 180/180 [09:12<00:00,  3.07s/it]\n",
            "                 Class     Images  Instances      Box(P          R      mAP50  mAP50-95): 100%|██████████| 9/9 [00:21<00:00,  2.37s/it]"
          ]
        },
        {
          "name": "stdout",
          "output_type": "stream",
          "text": [
            "                   all        273        321      0.875      0.819      0.894      0.652\n"
          ]
        },
        {
          "name": "stderr",
          "output_type": "stream",
          "text": [
            "\n"
          ]
        },
        {
          "name": "stdout",
          "output_type": "stream",
          "text": [
            "\n",
            "      Epoch    GPU_mem   box_loss   cls_loss   dfl_loss  Instances       Size\n"
          ]
        },
        {
          "name": "stderr",
          "output_type": "stream",
          "text": [
            "       7/10         0G      0.905     0.6781       1.47         15        640: 100%|██████████| 180/180 [09:13<00:00,  3.07s/it]\n",
            "                 Class     Images  Instances      Box(P          R      mAP50  mAP50-95): 100%|██████████| 9/9 [00:20<00:00,  2.33s/it]"
          ]
        },
        {
          "name": "stdout",
          "output_type": "stream",
          "text": [
            "                   all        273        321      0.904      0.847      0.913      0.678\n"
          ]
        },
        {
          "name": "stderr",
          "output_type": "stream",
          "text": [
            "\n"
          ]
        },
        {
          "name": "stdout",
          "output_type": "stream",
          "text": [
            "\n",
            "      Epoch    GPU_mem   box_loss   cls_loss   dfl_loss  Instances       Size\n"
          ]
        },
        {
          "name": "stderr",
          "output_type": "stream",
          "text": [
            "       8/10         0G     0.8272     0.6232      1.394         11        640: 100%|██████████| 180/180 [09:11<00:00,  3.07s/it]\n",
            "                 Class     Images  Instances      Box(P          R      mAP50  mAP50-95): 100%|██████████| 9/9 [00:18<00:00,  2.08s/it]"
          ]
        },
        {
          "name": "stdout",
          "output_type": "stream",
          "text": [
            "                   all        273        321      0.909      0.885      0.925      0.724\n"
          ]
        },
        {
          "name": "stderr",
          "output_type": "stream",
          "text": [
            "\n"
          ]
        },
        {
          "name": "stdout",
          "output_type": "stream",
          "text": [
            "\n",
            "      Epoch    GPU_mem   box_loss   cls_loss   dfl_loss  Instances       Size\n"
          ]
        },
        {
          "name": "stderr",
          "output_type": "stream",
          "text": [
            "       9/10         0G      0.747     0.5503      1.328         14        640: 100%|██████████| 180/180 [09:20<00:00,  3.11s/it]\n",
            "                 Class     Images  Instances      Box(P          R      mAP50  mAP50-95): 100%|██████████| 9/9 [00:23<00:00,  2.61s/it]"
          ]
        },
        {
          "name": "stdout",
          "output_type": "stream",
          "text": [
            "                   all        273        321      0.931      0.885      0.934      0.737\n"
          ]
        },
        {
          "name": "stderr",
          "output_type": "stream",
          "text": [
            "\n"
          ]
        },
        {
          "name": "stdout",
          "output_type": "stream",
          "text": [
            "\n",
            "      Epoch    GPU_mem   box_loss   cls_loss   dfl_loss  Instances       Size\n"
          ]
        },
        {
          "name": "stderr",
          "output_type": "stream",
          "text": [
            "      10/10         0G     0.6893     0.5006      1.286         13        640: 100%|██████████| 180/180 [09:19<00:00,  3.11s/it]\n",
            "                 Class     Images  Instances      Box(P          R      mAP50  mAP50-95): 100%|██████████| 9/9 [00:19<00:00,  2.20s/it]"
          ]
        },
        {
          "name": "stdout",
          "output_type": "stream",
          "text": [
            "                   all        273        321      0.924      0.912      0.943      0.771\n"
          ]
        },
        {
          "name": "stderr",
          "output_type": "stream",
          "text": [
            "\n"
          ]
        },
        {
          "name": "stdout",
          "output_type": "stream",
          "text": [
            "\n",
            "10 epochs completed in 1.602 hours.\n",
            "Optimizer stripped from runs/detect/result/weights/last.pt, 6.2MB\n",
            "Optimizer stripped from runs/detect/result/weights/best.pt, 6.2MB\n",
            "\n",
            "Validating runs/detect/result/weights/best.pt...\n",
            "Ultralytics 8.3.160 🚀 Python-3.11.13 torch-2.6.0+cpu CPU (Intel Xeon 2.00GHz)\n",
            "Model summary (fused): 72 layers, 3,006,038 parameters, 0 gradients, 8.1 GFLOPs\n"
          ]
        },
        {
          "name": "stderr",
          "output_type": "stream",
          "text": [
            "                 Class     Images  Instances      Box(P          R      mAP50  mAP50-95): 100%|██████████| 9/9 [00:16<00:00,  1.88s/it]\n"
          ]
        },
        {
          "name": "stdout",
          "output_type": "stream",
          "text": [
            "                   all        273        321      0.924       0.91      0.943      0.771\n",
            "walk-cross - v1 2024-05-20 8-51am        273        321      0.924       0.91      0.943      0.771\n",
            "Speed: 0.7ms preprocess, 54.7ms inference, 0.0ms loss, 1.1ms postprocess per image\n",
            "Results saved to \u001b[1mruns/detect/result\u001b[0m\n"
          ]
        },
        {
          "data": {
            "text/plain": [
              "ultralytics.utils.metrics.DetMetrics object with attributes:\n",
              "\n",
              "ap_class_index: array([1])\n",
              "box: ultralytics.utils.metrics.Metric object\n",
              "confusion_matrix: <ultralytics.utils.metrics.ConfusionMatrix object at 0x7d5c1c82b490>\n",
              "curves: ['Precision-Recall(B)', 'F1-Confidence(B)', 'Precision-Confidence(B)', 'Recall-Confidence(B)']\n",
              "curves_results: [[array([          0,    0.001001,    0.002002,    0.003003,    0.004004,    0.005005,    0.006006,    0.007007,    0.008008,    0.009009,     0.01001,    0.011011,    0.012012,    0.013013,    0.014014,    0.015015,    0.016016,    0.017017,    0.018018,    0.019019,     0.02002,    0.021021,    0.022022,    0.023023,\n",
              "          0.024024,    0.025025,    0.026026,    0.027027,    0.028028,    0.029029,     0.03003,    0.031031,    0.032032,    0.033033,    0.034034,    0.035035,    0.036036,    0.037037,    0.038038,    0.039039,     0.04004,    0.041041,    0.042042,    0.043043,    0.044044,    0.045045,    0.046046,    0.047047,\n",
              "          0.048048,    0.049049,     0.05005,    0.051051,    0.052052,    0.053053,    0.054054,    0.055055,    0.056056,    0.057057,    0.058058,    0.059059,     0.06006,    0.061061,    0.062062,    0.063063,    0.064064,    0.065065,    0.066066,    0.067067,    0.068068,    0.069069,     0.07007,    0.071071,\n",
              "          0.072072,    0.073073,    0.074074,    0.075075,    0.076076,    0.077077,    0.078078,    0.079079,     0.08008,    0.081081,    0.082082,    0.083083,    0.084084,    0.085085,    0.086086,    0.087087,    0.088088,    0.089089,     0.09009,    0.091091,    0.092092,    0.093093,    0.094094,    0.095095,\n",
              "          0.096096,    0.097097,    0.098098,    0.099099,      0.1001,      0.1011,      0.1021,      0.1031,      0.1041,     0.10511,     0.10611,     0.10711,     0.10811,     0.10911,     0.11011,     0.11111,     0.11211,     0.11311,     0.11411,     0.11512,     0.11612,     0.11712,     0.11812,     0.11912,\n",
              "           0.12012,     0.12112,     0.12212,     0.12312,     0.12412,     0.12513,     0.12613,     0.12713,     0.12813,     0.12913,     0.13013,     0.13113,     0.13213,     0.13313,     0.13413,     0.13514,     0.13614,     0.13714,     0.13814,     0.13914,     0.14014,     0.14114,     0.14214,     0.14314,\n",
              "           0.14414,     0.14515,     0.14615,     0.14715,     0.14815,     0.14915,     0.15015,     0.15115,     0.15215,     0.15315,     0.15415,     0.15516,     0.15616,     0.15716,     0.15816,     0.15916,     0.16016,     0.16116,     0.16216,     0.16316,     0.16416,     0.16517,     0.16617,     0.16717,\n",
              "           0.16817,     0.16917,     0.17017,     0.17117,     0.17217,     0.17317,     0.17417,     0.17518,     0.17618,     0.17718,     0.17818,     0.17918,     0.18018,     0.18118,     0.18218,     0.18318,     0.18418,     0.18519,     0.18619,     0.18719,     0.18819,     0.18919,     0.19019,     0.19119,\n",
              "           0.19219,     0.19319,     0.19419,      0.1952,      0.1962,      0.1972,      0.1982,      0.1992,      0.2002,      0.2012,      0.2022,      0.2032,      0.2042,     0.20521,     0.20621,     0.20721,     0.20821,     0.20921,     0.21021,     0.21121,     0.21221,     0.21321,     0.21421,     0.21522,\n",
              "           0.21622,     0.21722,     0.21822,     0.21922,     0.22022,     0.22122,     0.22222,     0.22322,     0.22422,     0.22523,     0.22623,     0.22723,     0.22823,     0.22923,     0.23023,     0.23123,     0.23223,     0.23323,     0.23423,     0.23524,     0.23624,     0.23724,     0.23824,     0.23924,\n",
              "           0.24024,     0.24124,     0.24224,     0.24324,     0.24424,     0.24525,     0.24625,     0.24725,     0.24825,     0.24925,     0.25025,     0.25125,     0.25225,     0.25325,     0.25425,     0.25526,     0.25626,     0.25726,     0.25826,     0.25926,     0.26026,     0.26126,     0.26226,     0.26326,\n",
              "           0.26426,     0.26527,     0.26627,     0.26727,     0.26827,     0.26927,     0.27027,     0.27127,     0.27227,     0.27327,     0.27427,     0.27528,     0.27628,     0.27728,     0.27828,     0.27928,     0.28028,     0.28128,     0.28228,     0.28328,     0.28428,     0.28529,     0.28629,     0.28729,\n",
              "           0.28829,     0.28929,     0.29029,     0.29129,     0.29229,     0.29329,     0.29429,      0.2953,      0.2963,      0.2973,      0.2983,      0.2993,      0.3003,      0.3013,      0.3023,      0.3033,      0.3043,     0.30531,     0.30631,     0.30731,     0.30831,     0.30931,     0.31031,     0.31131,\n",
              "           0.31231,     0.31331,     0.31431,     0.31532,     0.31632,     0.31732,     0.31832,     0.31932,     0.32032,     0.32132,     0.32232,     0.32332,     0.32432,     0.32533,     0.32633,     0.32733,     0.32833,     0.32933,     0.33033,     0.33133,     0.33233,     0.33333,     0.33433,     0.33534,\n",
              "           0.33634,     0.33734,     0.33834,     0.33934,     0.34034,     0.34134,     0.34234,     0.34334,     0.34434,     0.34535,     0.34635,     0.34735,     0.34835,     0.34935,     0.35035,     0.35135,     0.35235,     0.35335,     0.35435,     0.35536,     0.35636,     0.35736,     0.35836,     0.35936,\n",
              "           0.36036,     0.36136,     0.36236,     0.36336,     0.36436,     0.36537,     0.36637,     0.36737,     0.36837,     0.36937,     0.37037,     0.37137,     0.37237,     0.37337,     0.37437,     0.37538,     0.37638,     0.37738,     0.37838,     0.37938,     0.38038,     0.38138,     0.38238,     0.38338,\n",
              "           0.38438,     0.38539,     0.38639,     0.38739,     0.38839,     0.38939,     0.39039,     0.39139,     0.39239,     0.39339,     0.39439,      0.3954,      0.3964,      0.3974,      0.3984,      0.3994,      0.4004,      0.4014,      0.4024,      0.4034,      0.4044,     0.40541,     0.40641,     0.40741,\n",
              "           0.40841,     0.40941,     0.41041,     0.41141,     0.41241,     0.41341,     0.41441,     0.41542,     0.41642,     0.41742,     0.41842,     0.41942,     0.42042,     0.42142,     0.42242,     0.42342,     0.42442,     0.42543,     0.42643,     0.42743,     0.42843,     0.42943,     0.43043,     0.43143,\n",
              "           0.43243,     0.43343,     0.43443,     0.43544,     0.43644,     0.43744,     0.43844,     0.43944,     0.44044,     0.44144,     0.44244,     0.44344,     0.44444,     0.44545,     0.44645,     0.44745,     0.44845,     0.44945,     0.45045,     0.45145,     0.45245,     0.45345,     0.45445,     0.45546,\n",
              "           0.45646,     0.45746,     0.45846,     0.45946,     0.46046,     0.46146,     0.46246,     0.46346,     0.46446,     0.46547,     0.46647,     0.46747,     0.46847,     0.46947,     0.47047,     0.47147,     0.47247,     0.47347,     0.47447,     0.47548,     0.47648,     0.47748,     0.47848,     0.47948,\n",
              "           0.48048,     0.48148,     0.48248,     0.48348,     0.48448,     0.48549,     0.48649,     0.48749,     0.48849,     0.48949,     0.49049,     0.49149,     0.49249,     0.49349,     0.49449,      0.4955,      0.4965,      0.4975,      0.4985,      0.4995,      0.5005,      0.5015,      0.5025,      0.5035,\n",
              "            0.5045,     0.50551,     0.50651,     0.50751,     0.50851,     0.50951,     0.51051,     0.51151,     0.51251,     0.51351,     0.51451,     0.51552,     0.51652,     0.51752,     0.51852,     0.51952,     0.52052,     0.52152,     0.52252,     0.52352,     0.52452,     0.52553,     0.52653,     0.52753,\n",
              "           0.52853,     0.52953,     0.53053,     0.53153,     0.53253,     0.53353,     0.53453,     0.53554,     0.53654,     0.53754,     0.53854,     0.53954,     0.54054,     0.54154,     0.54254,     0.54354,     0.54454,     0.54555,     0.54655,     0.54755,     0.54855,     0.54955,     0.55055,     0.55155,\n",
              "           0.55255,     0.55355,     0.55455,     0.55556,     0.55656,     0.55756,     0.55856,     0.55956,     0.56056,     0.56156,     0.56256,     0.56356,     0.56456,     0.56557,     0.56657,     0.56757,     0.56857,     0.56957,     0.57057,     0.57157,     0.57257,     0.57357,     0.57457,     0.57558,\n",
              "           0.57658,     0.57758,     0.57858,     0.57958,     0.58058,     0.58158,     0.58258,     0.58358,     0.58458,     0.58559,     0.58659,     0.58759,     0.58859,     0.58959,     0.59059,     0.59159,     0.59259,     0.59359,     0.59459,      0.5956,      0.5966,      0.5976,      0.5986,      0.5996,\n",
              "            0.6006,      0.6016,      0.6026,      0.6036,      0.6046,     0.60561,     0.60661,     0.60761,     0.60861,     0.60961,     0.61061,     0.61161,     0.61261,     0.61361,     0.61461,     0.61562,     0.61662,     0.61762,     0.61862,     0.61962,     0.62062,     0.62162,     0.62262,     0.62362,\n",
              "           0.62462,     0.62563,     0.62663,     0.62763,     0.62863,     0.62963,     0.63063,     0.63163,     0.63263,     0.63363,     0.63463,     0.63564,     0.63664,     0.63764,     0.63864,     0.63964,     0.64064,     0.64164,     0.64264,     0.64364,     0.64464,     0.64565,     0.64665,     0.64765,\n",
              "           0.64865,     0.64965,     0.65065,     0.65165,     0.65265,     0.65365,     0.65465,     0.65566,     0.65666,     0.65766,     0.65866,     0.65966,     0.66066,     0.66166,     0.66266,     0.66366,     0.66466,     0.66567,     0.66667,     0.66767,     0.66867,     0.66967,     0.67067,     0.67167,\n",
              "           0.67267,     0.67367,     0.67467,     0.67568,     0.67668,     0.67768,     0.67868,     0.67968,     0.68068,     0.68168,     0.68268,     0.68368,     0.68468,     0.68569,     0.68669,     0.68769,     0.68869,     0.68969,     0.69069,     0.69169,     0.69269,     0.69369,     0.69469,      0.6957,\n",
              "            0.6967,      0.6977,      0.6987,      0.6997,      0.7007,      0.7017,      0.7027,      0.7037,      0.7047,     0.70571,     0.70671,     0.70771,     0.70871,     0.70971,     0.71071,     0.71171,     0.71271,     0.71371,     0.71471,     0.71572,     0.71672,     0.71772,     0.71872,     0.71972,\n",
              "           0.72072,     0.72172,     0.72272,     0.72372,     0.72472,     0.72573,     0.72673,     0.72773,     0.72873,     0.72973,     0.73073,     0.73173,     0.73273,     0.73373,     0.73473,     0.73574,     0.73674,     0.73774,     0.73874,     0.73974,     0.74074,     0.74174,     0.74274,     0.74374,\n",
              "           0.74474,     0.74575,     0.74675,     0.74775,     0.74875,     0.74975,     0.75075,     0.75175,     0.75275,     0.75375,     0.75475,     0.75576,     0.75676,     0.75776,     0.75876,     0.75976,     0.76076,     0.76176,     0.76276,     0.76376,     0.76476,     0.76577,     0.76677,     0.76777,\n",
              "           0.76877,     0.76977,     0.77077,     0.77177,     0.77277,     0.77377,     0.77477,     0.77578,     0.77678,     0.77778,     0.77878,     0.77978,     0.78078,     0.78178,     0.78278,     0.78378,     0.78478,     0.78579,     0.78679,     0.78779,     0.78879,     0.78979,     0.79079,     0.79179,\n",
              "           0.79279,     0.79379,     0.79479,      0.7958,      0.7968,      0.7978,      0.7988,      0.7998,      0.8008,      0.8018,      0.8028,      0.8038,      0.8048,     0.80581,     0.80681,     0.80781,     0.80881,     0.80981,     0.81081,     0.81181,     0.81281,     0.81381,     0.81481,     0.81582,\n",
              "           0.81682,     0.81782,     0.81882,     0.81982,     0.82082,     0.82182,     0.82282,     0.82382,     0.82482,     0.82583,     0.82683,     0.82783,     0.82883,     0.82983,     0.83083,     0.83183,     0.83283,     0.83383,     0.83483,     0.83584,     0.83684,     0.83784,     0.83884,     0.83984,\n",
              "           0.84084,     0.84184,     0.84284,     0.84384,     0.84484,     0.84585,     0.84685,     0.84785,     0.84885,     0.84985,     0.85085,     0.85185,     0.85285,     0.85385,     0.85485,     0.85586,     0.85686,     0.85786,     0.85886,     0.85986,     0.86086,     0.86186,     0.86286,     0.86386,\n",
              "           0.86486,     0.86587,     0.86687,     0.86787,     0.86887,     0.86987,     0.87087,     0.87187,     0.87287,     0.87387,     0.87487,     0.87588,     0.87688,     0.87788,     0.87888,     0.87988,     0.88088,     0.88188,     0.88288,     0.88388,     0.88488,     0.88589,     0.88689,     0.88789,\n",
              "           0.88889,     0.88989,     0.89089,     0.89189,     0.89289,     0.89389,     0.89489,      0.8959,      0.8969,      0.8979,      0.8989,      0.8999,      0.9009,      0.9019,      0.9029,      0.9039,      0.9049,     0.90591,     0.90691,     0.90791,     0.90891,     0.90991,     0.91091,     0.91191,\n",
              "           0.91291,     0.91391,     0.91491,     0.91592,     0.91692,     0.91792,     0.91892,     0.91992,     0.92092,     0.92192,     0.92292,     0.92392,     0.92492,     0.92593,     0.92693,     0.92793,     0.92893,     0.92993,     0.93093,     0.93193,     0.93293,     0.93393,     0.93493,     0.93594,\n",
              "           0.93694,     0.93794,     0.93894,     0.93994,     0.94094,     0.94194,     0.94294,     0.94394,     0.94494,     0.94595,     0.94695,     0.94795,     0.94895,     0.94995,     0.95095,     0.95195,     0.95295,     0.95395,     0.95495,     0.95596,     0.95696,     0.95796,     0.95896,     0.95996,\n",
              "           0.96096,     0.96196,     0.96296,     0.96396,     0.96496,     0.96597,     0.96697,     0.96797,     0.96897,     0.96997,     0.97097,     0.97197,     0.97297,     0.97397,     0.97497,     0.97598,     0.97698,     0.97798,     0.97898,     0.97998,     0.98098,     0.98198,     0.98298,     0.98398,\n",
              "           0.98498,     0.98599,     0.98699,     0.98799,     0.98899,     0.98999,     0.99099,     0.99199,     0.99299,     0.99399,     0.99499,       0.996,       0.997,       0.998,       0.999,           1]), array([[          1,           1,           1,           1,           1,           1,           1,           1,           1,           1,           1,           1,           1,           1,           1,           1,           1,           1,           1,           1,           1,           1,           1,\n",
              "                  1,           1,           1,           1,           1,           1,           1,           1,           1,           1,           1,           1,           1,           1,           1,           1,           1,           1,           1,           1,           1,           1,           1,\n",
              "                  1,           1,           1,           1,           1,           1,           1,           1,           1,           1,           1,           1,           1,           1,           1,           1,           1,           1,           1,           1,           1,           1,           1,\n",
              "                  1,           1,           1,           1,           1,           1,           1,           1,           1,           1,           1,           1,           1,           1,           1,           1,           1,           1,           1,           1,           1,           1,           1,\n",
              "                  1,           1,           1,           1,           1,           1,           1,           1,           1,           1,           1,           1,           1,           1,           1,           1,           1,           1,           1,           1,           1,           1,           1,\n",
              "                  1,           1,           1,           1,           1,           1,           1,           1,           1,           1,           1,           1,           1,           1,           1,           1,           1,           1,           1,           1,           1,           1,           1,\n",
              "                  1,           1,           1,           1,           1,           1,           1,           1,           1,           1,           1,           1,           1,           1,           1,           1,           1,           1,           1,           1,           1,           1,           1,\n",
              "                  1,           1,           1,           1,           1,           1,           1,           1,           1,           1,           1,           1,           1,           1,           1,           1,           1,           1,           1,           1,           1,           1,           1,\n",
              "                  1,           1,           1,           1,           1,           1,           1,           1,           1,           1,           1,           1,           1,           1,           1,           1,           1,           1,           1,           1,           1,           1,           1,\n",
              "                  1,           1,           1,           1,           1,           1,           1,           1,           1,           1,           1,           1,           1,           1,           1,           1,           1,           1,           1,           1,           1,           1,           1,\n",
              "                  1,           1,           1,           1,           1,           1,           1,           1,           1,           1,           1,           1,           1,           1,           1,           1,           1,           1,           1,           1,           1,           1,           1,\n",
              "                  1,           1,           1,           1,           1,           1,           1,           1,           1,           1,           1,           1,           1,           1,           1,           1,           1,           1,           1,           1,           1,           1,           1,\n",
              "                  1,           1,           1,           1,           1,           1,           1,           1,           1,           1,           1,           1,           1,           1,           1,           1,           1,           1,           1,           1,           1,           1,           1,\n",
              "                  1,           1,           1,           1,           1,           1,           1,           1,           1,           1,           1,           1,           1,           1,           1,           1,           1,           1,           1,           1,           1,           1,           1,\n",
              "                  1,           1,           1,           1,           1,           1,           1,           1,           1,           1,           1,           1,           1,           1,           1,           1,           1,           1,           1,           1,           1,           1,           1,\n",
              "                  1,           1,           1,           1,           1,           1,           1,           1,           1,           1,           1,           1,           1,           1,           1,           1,           1,           1,           1,           1,           1,           1,           1,\n",
              "                  1,           1,           1,           1,           1,           1,           1,           1,           1,           1,           1,           1,           1,           1,           1,           1,           1,           1,           1,           1,           1,           1,           1,\n",
              "                  1,           1,           1,           1,           1,           1,           1,           1,           1,           1,           1,           1,           1,           1,           1,           1,           1,           1,           1,           1,           1,           1,           1,\n",
              "                  1,           1,           1,           1,           1,           1,           1,           1,           1,           1,           1,           1,           1,           1,           1,           1,           1,           1,           1,           1,           1,           1,           1,\n",
              "                  1,           1,           1,           1,           1,           1,           1,           1,           1,           1,           1,           1,           1,           1,           1,           1,           1,           1,           1,           1,           1,           1,           1,\n",
              "                  1,           1,           1,           1,           1,           1,           1,           1,           1,           1,           1,           1,           1,           1,           1,           1,           1,           1,           1,           1,           1,           1,           1,\n",
              "                  1,           1,           1,           1,           1,           1,           1,           1,           1,           1,           1,           1,           1,           1,           1,           1,           1,           1,           1,           1,           1,           1,           1,\n",
              "                  1,           1,           1,           1,           1,           1,           1,           1,           1,           1,           1,           1,           1,           1,           1,           1,           1,           1,           1,           1,           1,           1,           1,\n",
              "                  1,           1,           1,           1,           1,           1,           1,           1,           1,           1,           1,           1,           1,           1,           1,           1,           1,           1,           1,           1,           1,           1,           1,\n",
              "                  1,           1,           1,           1,           1,           1,           1,           1,           1,           1,           1,           1,           1,           1,           1,           1,           1,           1,           1,           1,           1,           1,           1,\n",
              "                  1,           1,           1,           1,           1,           1,           1,           1,           1,           1,           1,           1,           1,           1,           1,           1,           1,           1,           1,           1,           1,           1,           1,\n",
              "                  1,           1,           1,           1,           1,           1,           1,           1,           1,           1,           1,           1,           1,           1,           1,           1,           1,           1,           1,           1,           1,           1,           1,\n",
              "                  1,           1,           1,           1,           1,           1,           1,           1,           1,           1,           1,           1,           1,           1,           1,           1,           1,           1,           1,           1,           1,           1,           1,\n",
              "                  1,           1,           1,           1,           1,           1,           1,           1,           1,           1,           1,           1,           1,           1,           1,           1,           1,           1,           1,           1,           1,           1,           1,\n",
              "                  1,           1,           1,           1,           1,           1,           1,           1,           1,     0.99578,     0.99578,     0.99578,     0.99578,     0.99578,     0.99578,     0.99578,     0.99578,     0.99578,     0.99578,     0.99578,     0.99578,     0.99578,     0.99578,\n",
              "            0.99578,     0.99578,     0.99578,     0.99578,     0.99578,     0.99578,     0.99578,     0.99578,     0.99578,     0.99578,     0.99578,     0.99578,     0.99578,     0.99578,     0.99578,     0.99578,     0.99578,     0.99578,     0.99578,     0.99578,     0.99578,     0.99578,     0.99578,\n",
              "            0.99578,     0.99578,     0.99578,     0.99578,     0.99578,     0.99578,     0.99578,     0.99578,     0.99578,     0.99578,     0.99578,     0.99578,     0.99578,     0.99578,     0.99578,     0.99578,     0.99578,     0.99578,     0.99578,     0.99578,     0.99578,     0.99578,     0.99177,\n",
              "            0.99177,     0.99177,     0.99177,     0.99177,     0.99177,     0.99177,     0.99177,     0.99177,     0.99177,     0.99177,     0.99177,     0.99177,     0.99177,     0.99177,     0.99177,     0.98814,     0.98814,     0.98814,     0.98814,     0.98814,     0.98814,     0.98814,     0.98814,\n",
              "            0.98814,     0.98814,     0.98814,     0.98814,     0.98814,     0.98814,     0.98814,     0.98814,     0.98814,     0.98814,     0.98814,     0.98814,     0.98814,     0.98814,     0.98814,     0.98814,     0.98814,     0.98814,     0.98814,     0.98814,     0.98462,     0.98462,     0.98462,\n",
              "            0.98462,     0.98462,     0.98462,     0.98462,     0.98462,     0.98462,     0.98462,     0.98462,     0.98462,     0.98462,     0.98462,     0.98462,     0.98462,     0.98462,     0.98462,     0.98106,     0.98106,     0.98106,     0.98106,     0.98106,     0.98106,     0.98106,     0.98106,\n",
              "            0.98106,     0.98106,      0.9777,      0.9777,      0.9777,      0.9777,      0.9777,      0.9777,      0.9777,      0.9777,      0.9777,      0.9777,      0.9777,      0.9777,     0.97436,     0.97436,     0.97436,     0.97436,     0.97436,     0.97436,     0.97436,     0.97436,     0.97436,\n",
              "            0.96429,     0.96429,     0.96429,     0.96429,     0.96429,     0.96429,     0.96429,     0.96429,     0.96429,     0.96429,     0.96429,     0.96429,     0.96429,      0.9614,      0.9614,      0.9614,      0.9614,      0.9614,      0.9614,      0.9614,      0.9614,      0.9614,      0.9614,\n",
              "             0.9614,      0.9614,     0.95848,     0.95848,     0.95848,     0.95848,     0.95848,     0.95848,     0.95848,     0.95848,     0.95848,     0.95848,     0.95302,     0.95302,     0.95302,     0.95302,     0.95302,     0.95302,     0.95302,     0.95302,     0.95302,     0.95302,     0.95302,\n",
              "            0.95302,     0.95302,     0.95302,     0.95302,     0.95302,     0.95302,     0.95302,     0.95302,     0.95302,     0.95302,        0.95,        0.95,        0.95,      0.9377,      0.9377,      0.9377,      0.9377,     0.93569,     0.93569,     0.93569,     0.93569,     0.93569,     0.93569,\n",
              "            0.93569,     0.93569,     0.93569,     0.93569,     0.93569,     0.93569,     0.93569,     0.93569,     0.93569,     0.92698,     0.92698,     0.92698,     0.92429,     0.92429,     0.92429,     0.91615,     0.91615,     0.91615,     0.91615,     0.91615,     0.91615,     0.91615,     0.90826,\n",
              "            0.90826,     0.90826,     0.90826,     0.90826,     0.90826,     0.89759,     0.89759,     0.89759,     0.87427,     0.87427,     0.87427,     0.85227,     0.85227,     0.85227,      0.8224,      0.8224,      0.8224,     0.82065,     0.82065,     0.82065,     0.76322,     0.76322,     0.76322,\n",
              "            0.68778,     0.68778,     0.68778,     0.68778,     0.45052,     0.45052,     0.45052,      0.3908,      0.3908,      0.3908,     0.34768,     0.34768,     0.34768,     0.18884,     0.18884,     0.18884,     0.17779,     0.17779,     0.17779,     0.12375,     0.12375,     0.12375,     0.08685,\n",
              "           0.084296,    0.081741,    0.079187,    0.076633,    0.074078,    0.071524,    0.068969,    0.066415,    0.063861,    0.061306,    0.058752,    0.056197,    0.053643,    0.051088,    0.048534,     0.04598,    0.043425,    0.040871,    0.038316,    0.035762,    0.033207,    0.030653,    0.028099,\n",
              "           0.025544,     0.02299,    0.020435,    0.017881,    0.015327,    0.012772,    0.010218,   0.0076633,   0.0051088,   0.0025544,           0]]), 'Recall', 'Precision'], [array([          0,    0.001001,    0.002002,    0.003003,    0.004004,    0.005005,    0.006006,    0.007007,    0.008008,    0.009009,     0.01001,    0.011011,    0.012012,    0.013013,    0.014014,    0.015015,    0.016016,    0.017017,    0.018018,    0.019019,     0.02002,    0.021021,    0.022022,    0.023023,\n",
              "          0.024024,    0.025025,    0.026026,    0.027027,    0.028028,    0.029029,     0.03003,    0.031031,    0.032032,    0.033033,    0.034034,    0.035035,    0.036036,    0.037037,    0.038038,    0.039039,     0.04004,    0.041041,    0.042042,    0.043043,    0.044044,    0.045045,    0.046046,    0.047047,\n",
              "          0.048048,    0.049049,     0.05005,    0.051051,    0.052052,    0.053053,    0.054054,    0.055055,    0.056056,    0.057057,    0.058058,    0.059059,     0.06006,    0.061061,    0.062062,    0.063063,    0.064064,    0.065065,    0.066066,    0.067067,    0.068068,    0.069069,     0.07007,    0.071071,\n",
              "          0.072072,    0.073073,    0.074074,    0.075075,    0.076076,    0.077077,    0.078078,    0.079079,     0.08008,    0.081081,    0.082082,    0.083083,    0.084084,    0.085085,    0.086086,    0.087087,    0.088088,    0.089089,     0.09009,    0.091091,    0.092092,    0.093093,    0.094094,    0.095095,\n",
              "          0.096096,    0.097097,    0.098098,    0.099099,      0.1001,      0.1011,      0.1021,      0.1031,      0.1041,     0.10511,     0.10611,     0.10711,     0.10811,     0.10911,     0.11011,     0.11111,     0.11211,     0.11311,     0.11411,     0.11512,     0.11612,     0.11712,     0.11812,     0.11912,\n",
              "           0.12012,     0.12112,     0.12212,     0.12312,     0.12412,     0.12513,     0.12613,     0.12713,     0.12813,     0.12913,     0.13013,     0.13113,     0.13213,     0.13313,     0.13413,     0.13514,     0.13614,     0.13714,     0.13814,     0.13914,     0.14014,     0.14114,     0.14214,     0.14314,\n",
              "           0.14414,     0.14515,     0.14615,     0.14715,     0.14815,     0.14915,     0.15015,     0.15115,     0.15215,     0.15315,     0.15415,     0.15516,     0.15616,     0.15716,     0.15816,     0.15916,     0.16016,     0.16116,     0.16216,     0.16316,     0.16416,     0.16517,     0.16617,     0.16717,\n",
              "           0.16817,     0.16917,     0.17017,     0.17117,     0.17217,     0.17317,     0.17417,     0.17518,     0.17618,     0.17718,     0.17818,     0.17918,     0.18018,     0.18118,     0.18218,     0.18318,     0.18418,     0.18519,     0.18619,     0.18719,     0.18819,     0.18919,     0.19019,     0.19119,\n",
              "           0.19219,     0.19319,     0.19419,      0.1952,      0.1962,      0.1972,      0.1982,      0.1992,      0.2002,      0.2012,      0.2022,      0.2032,      0.2042,     0.20521,     0.20621,     0.20721,     0.20821,     0.20921,     0.21021,     0.21121,     0.21221,     0.21321,     0.21421,     0.21522,\n",
              "           0.21622,     0.21722,     0.21822,     0.21922,     0.22022,     0.22122,     0.22222,     0.22322,     0.22422,     0.22523,     0.22623,     0.22723,     0.22823,     0.22923,     0.23023,     0.23123,     0.23223,     0.23323,     0.23423,     0.23524,     0.23624,     0.23724,     0.23824,     0.23924,\n",
              "           0.24024,     0.24124,     0.24224,     0.24324,     0.24424,     0.24525,     0.24625,     0.24725,     0.24825,     0.24925,     0.25025,     0.25125,     0.25225,     0.25325,     0.25425,     0.25526,     0.25626,     0.25726,     0.25826,     0.25926,     0.26026,     0.26126,     0.26226,     0.26326,\n",
              "           0.26426,     0.26527,     0.26627,     0.26727,     0.26827,     0.26927,     0.27027,     0.27127,     0.27227,     0.27327,     0.27427,     0.27528,     0.27628,     0.27728,     0.27828,     0.27928,     0.28028,     0.28128,     0.28228,     0.28328,     0.28428,     0.28529,     0.28629,     0.28729,\n",
              "           0.28829,     0.28929,     0.29029,     0.29129,     0.29229,     0.29329,     0.29429,      0.2953,      0.2963,      0.2973,      0.2983,      0.2993,      0.3003,      0.3013,      0.3023,      0.3033,      0.3043,     0.30531,     0.30631,     0.30731,     0.30831,     0.30931,     0.31031,     0.31131,\n",
              "           0.31231,     0.31331,     0.31431,     0.31532,     0.31632,     0.31732,     0.31832,     0.31932,     0.32032,     0.32132,     0.32232,     0.32332,     0.32432,     0.32533,     0.32633,     0.32733,     0.32833,     0.32933,     0.33033,     0.33133,     0.33233,     0.33333,     0.33433,     0.33534,\n",
              "           0.33634,     0.33734,     0.33834,     0.33934,     0.34034,     0.34134,     0.34234,     0.34334,     0.34434,     0.34535,     0.34635,     0.34735,     0.34835,     0.34935,     0.35035,     0.35135,     0.35235,     0.35335,     0.35435,     0.35536,     0.35636,     0.35736,     0.35836,     0.35936,\n",
              "           0.36036,     0.36136,     0.36236,     0.36336,     0.36436,     0.36537,     0.36637,     0.36737,     0.36837,     0.36937,     0.37037,     0.37137,     0.37237,     0.37337,     0.37437,     0.37538,     0.37638,     0.37738,     0.37838,     0.37938,     0.38038,     0.38138,     0.38238,     0.38338,\n",
              "           0.38438,     0.38539,     0.38639,     0.38739,     0.38839,     0.38939,     0.39039,     0.39139,     0.39239,     0.39339,     0.39439,      0.3954,      0.3964,      0.3974,      0.3984,      0.3994,      0.4004,      0.4014,      0.4024,      0.4034,      0.4044,     0.40541,     0.40641,     0.40741,\n",
              "           0.40841,     0.40941,     0.41041,     0.41141,     0.41241,     0.41341,     0.41441,     0.41542,     0.41642,     0.41742,     0.41842,     0.41942,     0.42042,     0.42142,     0.42242,     0.42342,     0.42442,     0.42543,     0.42643,     0.42743,     0.42843,     0.42943,     0.43043,     0.43143,\n",
              "           0.43243,     0.43343,     0.43443,     0.43544,     0.43644,     0.43744,     0.43844,     0.43944,     0.44044,     0.44144,     0.44244,     0.44344,     0.44444,     0.44545,     0.44645,     0.44745,     0.44845,     0.44945,     0.45045,     0.45145,     0.45245,     0.45345,     0.45445,     0.45546,\n",
              "           0.45646,     0.45746,     0.45846,     0.45946,     0.46046,     0.46146,     0.46246,     0.46346,     0.46446,     0.46547,     0.46647,     0.46747,     0.46847,     0.46947,     0.47047,     0.47147,     0.47247,     0.47347,     0.47447,     0.47548,     0.47648,     0.47748,     0.47848,     0.47948,\n",
              "           0.48048,     0.48148,     0.48248,     0.48348,     0.48448,     0.48549,     0.48649,     0.48749,     0.48849,     0.48949,     0.49049,     0.49149,     0.49249,     0.49349,     0.49449,      0.4955,      0.4965,      0.4975,      0.4985,      0.4995,      0.5005,      0.5015,      0.5025,      0.5035,\n",
              "            0.5045,     0.50551,     0.50651,     0.50751,     0.50851,     0.50951,     0.51051,     0.51151,     0.51251,     0.51351,     0.51451,     0.51552,     0.51652,     0.51752,     0.51852,     0.51952,     0.52052,     0.52152,     0.52252,     0.52352,     0.52452,     0.52553,     0.52653,     0.52753,\n",
              "           0.52853,     0.52953,     0.53053,     0.53153,     0.53253,     0.53353,     0.53453,     0.53554,     0.53654,     0.53754,     0.53854,     0.53954,     0.54054,     0.54154,     0.54254,     0.54354,     0.54454,     0.54555,     0.54655,     0.54755,     0.54855,     0.54955,     0.55055,     0.55155,\n",
              "           0.55255,     0.55355,     0.55455,     0.55556,     0.55656,     0.55756,     0.55856,     0.55956,     0.56056,     0.56156,     0.56256,     0.56356,     0.56456,     0.56557,     0.56657,     0.56757,     0.56857,     0.56957,     0.57057,     0.57157,     0.57257,     0.57357,     0.57457,     0.57558,\n",
              "           0.57658,     0.57758,     0.57858,     0.57958,     0.58058,     0.58158,     0.58258,     0.58358,     0.58458,     0.58559,     0.58659,     0.58759,     0.58859,     0.58959,     0.59059,     0.59159,     0.59259,     0.59359,     0.59459,      0.5956,      0.5966,      0.5976,      0.5986,      0.5996,\n",
              "            0.6006,      0.6016,      0.6026,      0.6036,      0.6046,     0.60561,     0.60661,     0.60761,     0.60861,     0.60961,     0.61061,     0.61161,     0.61261,     0.61361,     0.61461,     0.61562,     0.61662,     0.61762,     0.61862,     0.61962,     0.62062,     0.62162,     0.62262,     0.62362,\n",
              "           0.62462,     0.62563,     0.62663,     0.62763,     0.62863,     0.62963,     0.63063,     0.63163,     0.63263,     0.63363,     0.63463,     0.63564,     0.63664,     0.63764,     0.63864,     0.63964,     0.64064,     0.64164,     0.64264,     0.64364,     0.64464,     0.64565,     0.64665,     0.64765,\n",
              "           0.64865,     0.64965,     0.65065,     0.65165,     0.65265,     0.65365,     0.65465,     0.65566,     0.65666,     0.65766,     0.65866,     0.65966,     0.66066,     0.66166,     0.66266,     0.66366,     0.66466,     0.66567,     0.66667,     0.66767,     0.66867,     0.66967,     0.67067,     0.67167,\n",
              "           0.67267,     0.67367,     0.67467,     0.67568,     0.67668,     0.67768,     0.67868,     0.67968,     0.68068,     0.68168,     0.68268,     0.68368,     0.68468,     0.68569,     0.68669,     0.68769,     0.68869,     0.68969,     0.69069,     0.69169,     0.69269,     0.69369,     0.69469,      0.6957,\n",
              "            0.6967,      0.6977,      0.6987,      0.6997,      0.7007,      0.7017,      0.7027,      0.7037,      0.7047,     0.70571,     0.70671,     0.70771,     0.70871,     0.70971,     0.71071,     0.71171,     0.71271,     0.71371,     0.71471,     0.71572,     0.71672,     0.71772,     0.71872,     0.71972,\n",
              "           0.72072,     0.72172,     0.72272,     0.72372,     0.72472,     0.72573,     0.72673,     0.72773,     0.72873,     0.72973,     0.73073,     0.73173,     0.73273,     0.73373,     0.73473,     0.73574,     0.73674,     0.73774,     0.73874,     0.73974,     0.74074,     0.74174,     0.74274,     0.74374,\n",
              "           0.74474,     0.74575,     0.74675,     0.74775,     0.74875,     0.74975,     0.75075,     0.75175,     0.75275,     0.75375,     0.75475,     0.75576,     0.75676,     0.75776,     0.75876,     0.75976,     0.76076,     0.76176,     0.76276,     0.76376,     0.76476,     0.76577,     0.76677,     0.76777,\n",
              "           0.76877,     0.76977,     0.77077,     0.77177,     0.77277,     0.77377,     0.77477,     0.77578,     0.77678,     0.77778,     0.77878,     0.77978,     0.78078,     0.78178,     0.78278,     0.78378,     0.78478,     0.78579,     0.78679,     0.78779,     0.78879,     0.78979,     0.79079,     0.79179,\n",
              "           0.79279,     0.79379,     0.79479,      0.7958,      0.7968,      0.7978,      0.7988,      0.7998,      0.8008,      0.8018,      0.8028,      0.8038,      0.8048,     0.80581,     0.80681,     0.80781,     0.80881,     0.80981,     0.81081,     0.81181,     0.81281,     0.81381,     0.81481,     0.81582,\n",
              "           0.81682,     0.81782,     0.81882,     0.81982,     0.82082,     0.82182,     0.82282,     0.82382,     0.82482,     0.82583,     0.82683,     0.82783,     0.82883,     0.82983,     0.83083,     0.83183,     0.83283,     0.83383,     0.83483,     0.83584,     0.83684,     0.83784,     0.83884,     0.83984,\n",
              "           0.84084,     0.84184,     0.84284,     0.84384,     0.84484,     0.84585,     0.84685,     0.84785,     0.84885,     0.84985,     0.85085,     0.85185,     0.85285,     0.85385,     0.85485,     0.85586,     0.85686,     0.85786,     0.85886,     0.85986,     0.86086,     0.86186,     0.86286,     0.86386,\n",
              "           0.86486,     0.86587,     0.86687,     0.86787,     0.86887,     0.86987,     0.87087,     0.87187,     0.87287,     0.87387,     0.87487,     0.87588,     0.87688,     0.87788,     0.87888,     0.87988,     0.88088,     0.88188,     0.88288,     0.88388,     0.88488,     0.88589,     0.88689,     0.88789,\n",
              "           0.88889,     0.88989,     0.89089,     0.89189,     0.89289,     0.89389,     0.89489,      0.8959,      0.8969,      0.8979,      0.8989,      0.8999,      0.9009,      0.9019,      0.9029,      0.9039,      0.9049,     0.90591,     0.90691,     0.90791,     0.90891,     0.90991,     0.91091,     0.91191,\n",
              "           0.91291,     0.91391,     0.91491,     0.91592,     0.91692,     0.91792,     0.91892,     0.91992,     0.92092,     0.92192,     0.92292,     0.92392,     0.92492,     0.92593,     0.92693,     0.92793,     0.92893,     0.92993,     0.93093,     0.93193,     0.93293,     0.93393,     0.93493,     0.93594,\n",
              "           0.93694,     0.93794,     0.93894,     0.93994,     0.94094,     0.94194,     0.94294,     0.94394,     0.94494,     0.94595,     0.94695,     0.94795,     0.94895,     0.94995,     0.95095,     0.95195,     0.95295,     0.95395,     0.95495,     0.95596,     0.95696,     0.95796,     0.95896,     0.95996,\n",
              "           0.96096,     0.96196,     0.96296,     0.96396,     0.96496,     0.96597,     0.96697,     0.96797,     0.96897,     0.96997,     0.97097,     0.97197,     0.97297,     0.97397,     0.97497,     0.97598,     0.97698,     0.97798,     0.97898,     0.97998,     0.98098,     0.98198,     0.98298,     0.98398,\n",
              "           0.98498,     0.98599,     0.98699,     0.98799,     0.98899,     0.98999,     0.99099,     0.99199,     0.99299,     0.99399,     0.99499,       0.996,       0.997,       0.998,       0.999,           1]), array([[    0.16037,     0.16046,     0.24214,     0.30046,     0.34581,     0.38269,     0.41819,     0.45585,     0.48113,     0.50595,     0.52525,     0.54622,     0.56741,     0.58992,      0.6092,     0.62026,     0.63298,     0.64328,     0.65469,     0.66691,     0.67677,     0.68501,     0.69691,\n",
              "            0.70372,      0.7147,     0.72182,     0.73085,      0.7352,     0.73971,     0.74546,     0.75164,     0.75847,     0.76444,     0.76968,     0.77149,     0.77288,     0.77849,     0.78225,     0.78314,     0.78635,     0.79176,      0.7957,     0.80053,     0.80434,      0.8089,     0.81122,\n",
              "            0.81437,     0.81737,     0.82006,     0.82346,     0.82586,     0.82652,     0.82922,     0.83021,     0.83084,     0.83237,     0.83457,     0.83563,     0.83763,     0.83939,     0.84021,     0.84222,     0.84333,     0.84392,     0.84481,     0.84584,      0.8464,     0.84691,      0.8479,\n",
              "            0.84988,     0.85046,      0.8512,     0.85225,     0.85472,     0.85545,     0.85735,     0.85929,     0.86079,       0.863,     0.86386,     0.86587,     0.86784,     0.86993,     0.87074,     0.87138,     0.87254,     0.87639,     0.87511,     0.87575,     0.87515,     0.87531,     0.87629,\n",
              "            0.87938,     0.88103,     0.88131,     0.88157,     0.88183,     0.88208,     0.88234,     0.88552,     0.88619,     0.88802,     0.88889,      0.8892,      0.8895,      0.8898,      0.8901,      0.8905,     0.89096,     0.89142,     0.89115,     0.89065,     0.89014,     0.88999,     0.89023,\n",
              "            0.89046,     0.89069,     0.89092,     0.89115,      0.8915,     0.89188,     0.89225,     0.89326,     0.89589,      0.8967,     0.89691,     0.89712,     0.89733,     0.89753,     0.89774,     0.89812,     0.89912,     0.89971,     0.90025,     0.90184,     0.90051,     0.90079,     0.90107,\n",
              "            0.90135,     0.90163,     0.90251,      0.9032,     0.90359,     0.90397,     0.90435,     0.90452,     0.90466,     0.90479,     0.90493,     0.90506,      0.9052,     0.90534,     0.90547,     0.90561,     0.90574,     0.90633,     0.90705,     0.90914,     0.90994,     0.91052,     0.91109,\n",
              "            0.91265,      0.9124,     0.91208,     0.91176,     0.91145,     0.91113,     0.91245,     0.91255,     0.91265,     0.91275,     0.91285,     0.91295,     0.91305,     0.91316,     0.91326,     0.91336,     0.91346,     0.91356,     0.91366,     0.91376,     0.91392,      0.9145,     0.91507,\n",
              "            0.91569,     0.91633,     0.91649,     0.91612,     0.91575,     0.91538,     0.91501,     0.91352,     0.91352,     0.91376,     0.91401,     0.91425,     0.91449,     0.91473,     0.91492,     0.91511,      0.9153,      0.9155,     0.91569,     0.91588,     0.91607,     0.91626,     0.91645,\n",
              "            0.91665,     0.91684,     0.91703,     0.91722,     0.91742,     0.91745,     0.91681,     0.91616,     0.91576,     0.91553,     0.91531,     0.91508,     0.91486,     0.91463,     0.91441,     0.91442,     0.91572,     0.91587,     0.91601,     0.91616,     0.91631,     0.91646,     0.91661,\n",
              "            0.91676,     0.91691,     0.91705,     0.91715,     0.91724,     0.91734,     0.91743,     0.91753,     0.91762,     0.91772,     0.91781,     0.91791,       0.918,      0.9181,     0.91819,     0.91828,     0.91838,     0.91847,     0.91785,     0.91701,     0.91691,     0.91705,     0.91719,\n",
              "            0.91734,     0.91748,     0.91763,     0.91777,     0.91792,     0.91806,     0.91821,     0.91684,     0.91738,     0.91791,     0.91837,     0.91881,     0.91925,     0.91966,     0.92003,     0.92041,     0.92079,     0.92024,     0.91936,     0.91909,     0.91897,     0.91886,     0.91875,\n",
              "            0.91864,     0.91852,     0.91841,      0.9183,     0.91818,     0.91807,     0.91796,     0.91785,     0.91773,     0.91762,     0.91751,     0.91729,       0.917,      0.9167,     0.91641,     0.91612,     0.91583,     0.91569,     0.91563,     0.91556,     0.91549,     0.91542,     0.91536,\n",
              "            0.91529,     0.91522,     0.91516,     0.91509,     0.91502,     0.91495,     0.91489,     0.91482,     0.91475,     0.91469,     0.91462,     0.91455,     0.91449,     0.91442,     0.91435,     0.91428,     0.91422,     0.91415,     0.91408,     0.91401,     0.91357,     0.91312,     0.91266,\n",
              "             0.9126,     0.91369,     0.91358,     0.91347,     0.91336,     0.91326,     0.91315,     0.91304,     0.91293,     0.91282,     0.91271,      0.9126,     0.91249,     0.91238,     0.91227,     0.91216,     0.91206,     0.91228,     0.91283,     0.91339,     0.91358,     0.91371,     0.91385,\n",
              "            0.91399,     0.91412,     0.91426,     0.91439,     0.91453,     0.91466,      0.9148,     0.91493,     0.91503,     0.91512,     0.91522,     0.91531,     0.91541,     0.91551,      0.9156,      0.9157,     0.91579,     0.91589,     0.91599,     0.91608,     0.91618,     0.91627,     0.91637,\n",
              "            0.91647,     0.91658,     0.91668,     0.91678,     0.91689,     0.91699,      0.9171,      0.9172,      0.9173,     0.91741,     0.91751,     0.91762,     0.91772,     0.91782,     0.91779,     0.91762,     0.91745,     0.91728,     0.91711,     0.91694,     0.91677,      0.9166,     0.91643,\n",
              "            0.91626,     0.91621,      0.9166,       0.917,     0.91739,     0.91752,     0.91731,     0.91711,      0.9169,     0.91669,     0.91649,     0.91628,     0.91608,     0.91587,     0.91581,     0.91575,      0.9157,     0.91564,     0.91558,     0.91553,     0.91547,     0.91542,     0.91536,\n",
              "            0.91531,     0.91525,      0.9152,     0.91514,     0.91508,     0.91503,     0.91497,     0.91492,     0.91486,     0.91481,     0.91475,      0.9147,     0.91464,     0.91458,     0.91453,     0.91447,     0.91442,     0.91436,     0.91431,     0.91425,      0.9142,     0.91414,     0.91232,\n",
              "            0.91184,     0.91137,     0.91089,     0.91028,      0.9094,     0.90861,     0.90801,     0.90741,     0.90699,     0.90691,     0.90683,     0.90675,     0.90667,     0.90659,     0.90651,     0.90643,     0.90635,     0.90627,     0.90619,     0.90611,     0.90603,     0.90595,     0.90587,\n",
              "            0.90579,     0.90572,     0.90564,     0.90556,     0.90548,      0.9054,     0.90532,     0.90524,     0.90606,     0.90677,     0.90699,     0.90721,     0.90743,     0.90764,     0.90786,     0.90808,     0.90798,     0.90751,     0.90704,     0.90657,     0.90636,     0.90629,     0.90622,\n",
              "            0.90616,     0.90609,     0.90602,     0.90595,     0.90588,     0.90582,     0.90575,     0.90568,     0.90561,     0.90554,     0.90548,     0.90541,     0.90534,     0.90527,     0.90521,     0.90514,     0.90507,       0.905,     0.90493,     0.90487,      0.9048,     0.90473,     0.90466,\n",
              "            0.90458,     0.90441,     0.90425,     0.90409,     0.90393,     0.90377,     0.90361,     0.90344,     0.90328,     0.90312,     0.90296,     0.90283,     0.90356,     0.90428,     0.90386,     0.90344,     0.90302,      0.9026,     0.90236,     0.90218,     0.90201,     0.90183,     0.90166,\n",
              "            0.90149,     0.90131,     0.90114,     0.90096,     0.90079,      0.9006,     0.90035,      0.9001,     0.89985,      0.8996,     0.89935,      0.8991,     0.89885,     0.89872,      0.8986,     0.89847,     0.89834,     0.89822,     0.89809,     0.89797,     0.89784,     0.89771,     0.89759,\n",
              "            0.89746,     0.89734,     0.89721,     0.89708,     0.89731,     0.89803,     0.89658,     0.89615,     0.89572,     0.89528,     0.89485,     0.89402,     0.89318,     0.89278,     0.89253,     0.89228,     0.89203,     0.89178,     0.89153,     0.89128,     0.89147,     0.89237,     0.89273,\n",
              "            0.89289,     0.89305,     0.89321,     0.89337,     0.89353,     0.89369,     0.89385,     0.89401,     0.89425,     0.89463,     0.89502,     0.89541,     0.89519,      0.8942,     0.89149,     0.89077,     0.89004,     0.89025,      0.8905,     0.89075,     0.89099,     0.89124,     0.89148,\n",
              "            0.89132,     0.89107,     0.89082,     0.89057,     0.89032,     0.89007,     0.88982,     0.88944,     0.88869,     0.88794,      0.8876,      0.8874,     0.88719,     0.88699,     0.88678,     0.88658,     0.88637,     0.88617,     0.88596,     0.88429,     0.88514,     0.88467,     0.88421,\n",
              "            0.88374,     0.88318,     0.88256,     0.88195,     0.88061,     0.88003,     0.88057,      0.8811,     0.88077,     0.88013,      0.8795,     0.87877,     0.87801,     0.87735,     0.87721,     0.87707,     0.87693,     0.87679,     0.87665,     0.87651,     0.87638,     0.87624,      0.8761,\n",
              "            0.87596,     0.87582,     0.87568,     0.87554,     0.87523,     0.87437,     0.87352,      0.8714,     0.87118,     0.87096,     0.87074,     0.87053,     0.87031,     0.87009,     0.86987,     0.86965,     0.87022,     0.87095,     0.87027,     0.86958,     0.86866,     0.86717,     0.86582,\n",
              "            0.86501,     0.86472,     0.86444,     0.86416,     0.86388,      0.8636,     0.86331,      0.8613,     0.85502,     0.85451,       0.854,     0.85349,     0.85361,     0.85325,     0.85217,     0.85161,     0.85106,     0.85046,     0.84932,     0.84839,     0.84801,     0.84763,     0.84726,\n",
              "            0.84688,     0.84651,     0.84595,     0.84534,     0.84473,     0.84467,     0.84543,     0.84571,     0.84529,     0.84488,     0.84446,     0.84404,     0.84317,     0.84175,     0.83963,     0.83903,     0.83843,     0.83783,     0.83737,     0.83703,     0.83669,     0.83635,     0.83601,\n",
              "            0.83567,     0.83511,     0.83405,     0.83236,     0.82965,     0.82831,     0.82732,     0.82598,     0.82394,     0.82222,     0.82153,     0.82084,     0.82002,     0.81908,     0.81822,     0.81767,     0.81711,     0.81655,     0.81577,     0.81454,     0.81331,     0.81209,     0.80853,\n",
              "            0.80732,     0.80692,     0.80653,     0.80613,     0.80574,     0.80534,     0.80578,     0.80668,       0.806,     0.80531,     0.80463,     0.80355,     0.80236,     0.80145,     0.80057,     0.79915,     0.79529,     0.79433,     0.79336,     0.79286,     0.79242,     0.79199,     0.79155,\n",
              "            0.79112,     0.78752,     0.78593,     0.78525,     0.78458,     0.78392,     0.78332,     0.78272,     0.78212,     0.78167,     0.78142,     0.78117,     0.78091,     0.78066,     0.78041,     0.78015,      0.7799,     0.77965,     0.77734,     0.77519,      0.7703,     0.76891,     0.76766,\n",
              "            0.76667,     0.76569,     0.76508,     0.76463,     0.76418,     0.76374,     0.76329,     0.76235,     0.75982,     0.75746,     0.75667,     0.75588,     0.75322,     0.75244,     0.75165,     0.75091,     0.75045,     0.74998,     0.74952,     0.74905,     0.74859,     0.74595,     0.74556,\n",
              "            0.74517,     0.74478,     0.74439,       0.744,     0.74358,     0.74298,     0.74238,     0.74178,     0.74118,     0.73841,     0.73739,     0.73638,     0.73376,     0.73229,     0.73074,     0.72892,     0.72647,     0.72316,     0.72258,     0.72199,      0.7214,     0.72015,     0.71654,\n",
              "              0.714,     0.71316,      0.7128,     0.71243,     0.71206,      0.7117,     0.71133,     0.71096,     0.71012,     0.70903,     0.70291,     0.70164,     0.70037,     0.69879,     0.69651,     0.68978,      0.6893,     0.68883,     0.68835,     0.68787,     0.68739,     0.68665,     0.68556,\n",
              "            0.68447,     0.67885,       0.678,     0.67715,     0.67629,     0.67078,     0.66817,     0.66482,     0.66214,     0.66134,     0.66054,     0.65973,     0.65718,     0.65388,     0.65168,     0.64743,     0.64603,     0.64305,     0.63735,      0.6309,     0.62448,     0.62018,     0.61813,\n",
              "            0.61647,     0.60968,     0.60567,     0.59587,     0.58955,     0.58396,     0.57743,     0.57371,     0.56916,     0.56719,     0.56127,     0.55792,     0.55265,     0.54426,     0.53687,     0.52741,     0.51573,     0.51313,     0.51158,     0.50309,     0.49551,     0.49324,     0.48263,\n",
              "            0.47024,     0.46606,     0.45328,     0.45002,     0.44458,        0.44,     0.43718,     0.43426,     0.43125,     0.42466,     0.41833,     0.41401,     0.40964,     0.40221,     0.39037,     0.38674,     0.38583,     0.38491,       0.384,     0.38308,     0.36864,     0.36285,      0.3574,\n",
              "            0.35534,     0.34743,     0.33745,     0.33258,     0.33051,      0.3285,     0.32168,     0.31469,     0.30144,     0.29795,     0.28819,     0.28401,     0.28175,      0.2798,      0.2724,     0.26429,     0.26161,     0.25356,     0.24945,     0.24596,     0.23867,     0.23111,     0.22796,\n",
              "            0.22571,     0.22423,     0.22274,      0.2209,     0.21797,     0.21218,     0.20554,     0.20223,      0.1885,     0.17988,     0.17286,     0.16091,     0.15721,     0.15292,     0.14547,     0.13645,     0.13295,     0.12998,     0.10575,    0.089283,    0.087799,    0.086313,    0.084825,\n",
              "           0.082462,     0.07485,    0.066663,    0.059336,    0.058129,    0.056921,    0.055712,    0.054262,    0.048037,    0.045807,    0.043572,    0.041482,    0.039486,    0.037487,    0.033901,    0.028294,    0.022011,    0.017282,    0.012967,           0,           0,           0,           0,\n",
              "                  0,           0,           0,           0,           0,           0,           0,           0,           0,           0,           0]]), 'Confidence', 'F1'], [array([          0,    0.001001,    0.002002,    0.003003,    0.004004,    0.005005,    0.006006,    0.007007,    0.008008,    0.009009,     0.01001,    0.011011,    0.012012,    0.013013,    0.014014,    0.015015,    0.016016,    0.017017,    0.018018,    0.019019,     0.02002,    0.021021,    0.022022,    0.023023,\n",
              "          0.024024,    0.025025,    0.026026,    0.027027,    0.028028,    0.029029,     0.03003,    0.031031,    0.032032,    0.033033,    0.034034,    0.035035,    0.036036,    0.037037,    0.038038,    0.039039,     0.04004,    0.041041,    0.042042,    0.043043,    0.044044,    0.045045,    0.046046,    0.047047,\n",
              "          0.048048,    0.049049,     0.05005,    0.051051,    0.052052,    0.053053,    0.054054,    0.055055,    0.056056,    0.057057,    0.058058,    0.059059,     0.06006,    0.061061,    0.062062,    0.063063,    0.064064,    0.065065,    0.066066,    0.067067,    0.068068,    0.069069,     0.07007,    0.071071,\n",
              "          0.072072,    0.073073,    0.074074,    0.075075,    0.076076,    0.077077,    0.078078,    0.079079,     0.08008,    0.081081,    0.082082,    0.083083,    0.084084,    0.085085,    0.086086,    0.087087,    0.088088,    0.089089,     0.09009,    0.091091,    0.092092,    0.093093,    0.094094,    0.095095,\n",
              "          0.096096,    0.097097,    0.098098,    0.099099,      0.1001,      0.1011,      0.1021,      0.1031,      0.1041,     0.10511,     0.10611,     0.10711,     0.10811,     0.10911,     0.11011,     0.11111,     0.11211,     0.11311,     0.11411,     0.11512,     0.11612,     0.11712,     0.11812,     0.11912,\n",
              "           0.12012,     0.12112,     0.12212,     0.12312,     0.12412,     0.12513,     0.12613,     0.12713,     0.12813,     0.12913,     0.13013,     0.13113,     0.13213,     0.13313,     0.13413,     0.13514,     0.13614,     0.13714,     0.13814,     0.13914,     0.14014,     0.14114,     0.14214,     0.14314,\n",
              "           0.14414,     0.14515,     0.14615,     0.14715,     0.14815,     0.14915,     0.15015,     0.15115,     0.15215,     0.15315,     0.15415,     0.15516,     0.15616,     0.15716,     0.15816,     0.15916,     0.16016,     0.16116,     0.16216,     0.16316,     0.16416,     0.16517,     0.16617,     0.16717,\n",
              "           0.16817,     0.16917,     0.17017,     0.17117,     0.17217,     0.17317,     0.17417,     0.17518,     0.17618,     0.17718,     0.17818,     0.17918,     0.18018,     0.18118,     0.18218,     0.18318,     0.18418,     0.18519,     0.18619,     0.18719,     0.18819,     0.18919,     0.19019,     0.19119,\n",
              "           0.19219,     0.19319,     0.19419,      0.1952,      0.1962,      0.1972,      0.1982,      0.1992,      0.2002,      0.2012,      0.2022,      0.2032,      0.2042,     0.20521,     0.20621,     0.20721,     0.20821,     0.20921,     0.21021,     0.21121,     0.21221,     0.21321,     0.21421,     0.21522,\n",
              "           0.21622,     0.21722,     0.21822,     0.21922,     0.22022,     0.22122,     0.22222,     0.22322,     0.22422,     0.22523,     0.22623,     0.22723,     0.22823,     0.22923,     0.23023,     0.23123,     0.23223,     0.23323,     0.23423,     0.23524,     0.23624,     0.23724,     0.23824,     0.23924,\n",
              "           0.24024,     0.24124,     0.24224,     0.24324,     0.24424,     0.24525,     0.24625,     0.24725,     0.24825,     0.24925,     0.25025,     0.25125,     0.25225,     0.25325,     0.25425,     0.25526,     0.25626,     0.25726,     0.25826,     0.25926,     0.26026,     0.26126,     0.26226,     0.26326,\n",
              "           0.26426,     0.26527,     0.26627,     0.26727,     0.26827,     0.26927,     0.27027,     0.27127,     0.27227,     0.27327,     0.27427,     0.27528,     0.27628,     0.27728,     0.27828,     0.27928,     0.28028,     0.28128,     0.28228,     0.28328,     0.28428,     0.28529,     0.28629,     0.28729,\n",
              "           0.28829,     0.28929,     0.29029,     0.29129,     0.29229,     0.29329,     0.29429,      0.2953,      0.2963,      0.2973,      0.2983,      0.2993,      0.3003,      0.3013,      0.3023,      0.3033,      0.3043,     0.30531,     0.30631,     0.30731,     0.30831,     0.30931,     0.31031,     0.31131,\n",
              "           0.31231,     0.31331,     0.31431,     0.31532,     0.31632,     0.31732,     0.31832,     0.31932,     0.32032,     0.32132,     0.32232,     0.32332,     0.32432,     0.32533,     0.32633,     0.32733,     0.32833,     0.32933,     0.33033,     0.33133,     0.33233,     0.33333,     0.33433,     0.33534,\n",
              "           0.33634,     0.33734,     0.33834,     0.33934,     0.34034,     0.34134,     0.34234,     0.34334,     0.34434,     0.34535,     0.34635,     0.34735,     0.34835,     0.34935,     0.35035,     0.35135,     0.35235,     0.35335,     0.35435,     0.35536,     0.35636,     0.35736,     0.35836,     0.35936,\n",
              "           0.36036,     0.36136,     0.36236,     0.36336,     0.36436,     0.36537,     0.36637,     0.36737,     0.36837,     0.36937,     0.37037,     0.37137,     0.37237,     0.37337,     0.37437,     0.37538,     0.37638,     0.37738,     0.37838,     0.37938,     0.38038,     0.38138,     0.38238,     0.38338,\n",
              "           0.38438,     0.38539,     0.38639,     0.38739,     0.38839,     0.38939,     0.39039,     0.39139,     0.39239,     0.39339,     0.39439,      0.3954,      0.3964,      0.3974,      0.3984,      0.3994,      0.4004,      0.4014,      0.4024,      0.4034,      0.4044,     0.40541,     0.40641,     0.40741,\n",
              "           0.40841,     0.40941,     0.41041,     0.41141,     0.41241,     0.41341,     0.41441,     0.41542,     0.41642,     0.41742,     0.41842,     0.41942,     0.42042,     0.42142,     0.42242,     0.42342,     0.42442,     0.42543,     0.42643,     0.42743,     0.42843,     0.42943,     0.43043,     0.43143,\n",
              "           0.43243,     0.43343,     0.43443,     0.43544,     0.43644,     0.43744,     0.43844,     0.43944,     0.44044,     0.44144,     0.44244,     0.44344,     0.44444,     0.44545,     0.44645,     0.44745,     0.44845,     0.44945,     0.45045,     0.45145,     0.45245,     0.45345,     0.45445,     0.45546,\n",
              "           0.45646,     0.45746,     0.45846,     0.45946,     0.46046,     0.46146,     0.46246,     0.46346,     0.46446,     0.46547,     0.46647,     0.46747,     0.46847,     0.46947,     0.47047,     0.47147,     0.47247,     0.47347,     0.47447,     0.47548,     0.47648,     0.47748,     0.47848,     0.47948,\n",
              "           0.48048,     0.48148,     0.48248,     0.48348,     0.48448,     0.48549,     0.48649,     0.48749,     0.48849,     0.48949,     0.49049,     0.49149,     0.49249,     0.49349,     0.49449,      0.4955,      0.4965,      0.4975,      0.4985,      0.4995,      0.5005,      0.5015,      0.5025,      0.5035,\n",
              "            0.5045,     0.50551,     0.50651,     0.50751,     0.50851,     0.50951,     0.51051,     0.51151,     0.51251,     0.51351,     0.51451,     0.51552,     0.51652,     0.51752,     0.51852,     0.51952,     0.52052,     0.52152,     0.52252,     0.52352,     0.52452,     0.52553,     0.52653,     0.52753,\n",
              "           0.52853,     0.52953,     0.53053,     0.53153,     0.53253,     0.53353,     0.53453,     0.53554,     0.53654,     0.53754,     0.53854,     0.53954,     0.54054,     0.54154,     0.54254,     0.54354,     0.54454,     0.54555,     0.54655,     0.54755,     0.54855,     0.54955,     0.55055,     0.55155,\n",
              "           0.55255,     0.55355,     0.55455,     0.55556,     0.55656,     0.55756,     0.55856,     0.55956,     0.56056,     0.56156,     0.56256,     0.56356,     0.56456,     0.56557,     0.56657,     0.56757,     0.56857,     0.56957,     0.57057,     0.57157,     0.57257,     0.57357,     0.57457,     0.57558,\n",
              "           0.57658,     0.57758,     0.57858,     0.57958,     0.58058,     0.58158,     0.58258,     0.58358,     0.58458,     0.58559,     0.58659,     0.58759,     0.58859,     0.58959,     0.59059,     0.59159,     0.59259,     0.59359,     0.59459,      0.5956,      0.5966,      0.5976,      0.5986,      0.5996,\n",
              "            0.6006,      0.6016,      0.6026,      0.6036,      0.6046,     0.60561,     0.60661,     0.60761,     0.60861,     0.60961,     0.61061,     0.61161,     0.61261,     0.61361,     0.61461,     0.61562,     0.61662,     0.61762,     0.61862,     0.61962,     0.62062,     0.62162,     0.62262,     0.62362,\n",
              "           0.62462,     0.62563,     0.62663,     0.62763,     0.62863,     0.62963,     0.63063,     0.63163,     0.63263,     0.63363,     0.63463,     0.63564,     0.63664,     0.63764,     0.63864,     0.63964,     0.64064,     0.64164,     0.64264,     0.64364,     0.64464,     0.64565,     0.64665,     0.64765,\n",
              "           0.64865,     0.64965,     0.65065,     0.65165,     0.65265,     0.65365,     0.65465,     0.65566,     0.65666,     0.65766,     0.65866,     0.65966,     0.66066,     0.66166,     0.66266,     0.66366,     0.66466,     0.66567,     0.66667,     0.66767,     0.66867,     0.66967,     0.67067,     0.67167,\n",
              "           0.67267,     0.67367,     0.67467,     0.67568,     0.67668,     0.67768,     0.67868,     0.67968,     0.68068,     0.68168,     0.68268,     0.68368,     0.68468,     0.68569,     0.68669,     0.68769,     0.68869,     0.68969,     0.69069,     0.69169,     0.69269,     0.69369,     0.69469,      0.6957,\n",
              "            0.6967,      0.6977,      0.6987,      0.6997,      0.7007,      0.7017,      0.7027,      0.7037,      0.7047,     0.70571,     0.70671,     0.70771,     0.70871,     0.70971,     0.71071,     0.71171,     0.71271,     0.71371,     0.71471,     0.71572,     0.71672,     0.71772,     0.71872,     0.71972,\n",
              "           0.72072,     0.72172,     0.72272,     0.72372,     0.72472,     0.72573,     0.72673,     0.72773,     0.72873,     0.72973,     0.73073,     0.73173,     0.73273,     0.73373,     0.73473,     0.73574,     0.73674,     0.73774,     0.73874,     0.73974,     0.74074,     0.74174,     0.74274,     0.74374,\n",
              "           0.74474,     0.74575,     0.74675,     0.74775,     0.74875,     0.74975,     0.75075,     0.75175,     0.75275,     0.75375,     0.75475,     0.75576,     0.75676,     0.75776,     0.75876,     0.75976,     0.76076,     0.76176,     0.76276,     0.76376,     0.76476,     0.76577,     0.76677,     0.76777,\n",
              "           0.76877,     0.76977,     0.77077,     0.77177,     0.77277,     0.77377,     0.77477,     0.77578,     0.77678,     0.77778,     0.77878,     0.77978,     0.78078,     0.78178,     0.78278,     0.78378,     0.78478,     0.78579,     0.78679,     0.78779,     0.78879,     0.78979,     0.79079,     0.79179,\n",
              "           0.79279,     0.79379,     0.79479,      0.7958,      0.7968,      0.7978,      0.7988,      0.7998,      0.8008,      0.8018,      0.8028,      0.8038,      0.8048,     0.80581,     0.80681,     0.80781,     0.80881,     0.80981,     0.81081,     0.81181,     0.81281,     0.81381,     0.81481,     0.81582,\n",
              "           0.81682,     0.81782,     0.81882,     0.81982,     0.82082,     0.82182,     0.82282,     0.82382,     0.82482,     0.82583,     0.82683,     0.82783,     0.82883,     0.82983,     0.83083,     0.83183,     0.83283,     0.83383,     0.83483,     0.83584,     0.83684,     0.83784,     0.83884,     0.83984,\n",
              "           0.84084,     0.84184,     0.84284,     0.84384,     0.84484,     0.84585,     0.84685,     0.84785,     0.84885,     0.84985,     0.85085,     0.85185,     0.85285,     0.85385,     0.85485,     0.85586,     0.85686,     0.85786,     0.85886,     0.85986,     0.86086,     0.86186,     0.86286,     0.86386,\n",
              "           0.86486,     0.86587,     0.86687,     0.86787,     0.86887,     0.86987,     0.87087,     0.87187,     0.87287,     0.87387,     0.87487,     0.87588,     0.87688,     0.87788,     0.87888,     0.87988,     0.88088,     0.88188,     0.88288,     0.88388,     0.88488,     0.88589,     0.88689,     0.88789,\n",
              "           0.88889,     0.88989,     0.89089,     0.89189,     0.89289,     0.89389,     0.89489,      0.8959,      0.8969,      0.8979,      0.8989,      0.8999,      0.9009,      0.9019,      0.9029,      0.9039,      0.9049,     0.90591,     0.90691,     0.90791,     0.90891,     0.90991,     0.91091,     0.91191,\n",
              "           0.91291,     0.91391,     0.91491,     0.91592,     0.91692,     0.91792,     0.91892,     0.91992,     0.92092,     0.92192,     0.92292,     0.92392,     0.92492,     0.92593,     0.92693,     0.92793,     0.92893,     0.92993,     0.93093,     0.93193,     0.93293,     0.93393,     0.93493,     0.93594,\n",
              "           0.93694,     0.93794,     0.93894,     0.93994,     0.94094,     0.94194,     0.94294,     0.94394,     0.94494,     0.94595,     0.94695,     0.94795,     0.94895,     0.94995,     0.95095,     0.95195,     0.95295,     0.95395,     0.95495,     0.95596,     0.95696,     0.95796,     0.95896,     0.95996,\n",
              "           0.96096,     0.96196,     0.96296,     0.96396,     0.96496,     0.96597,     0.96697,     0.96797,     0.96897,     0.96997,     0.97097,     0.97197,     0.97297,     0.97397,     0.97497,     0.97598,     0.97698,     0.97798,     0.97898,     0.97998,     0.98098,     0.98198,     0.98298,     0.98398,\n",
              "           0.98498,     0.98599,     0.98699,     0.98799,     0.98899,     0.98999,     0.99099,     0.99199,     0.99299,     0.99399,     0.99499,       0.996,       0.997,       0.998,       0.999,           1]), array([[   0.087447,    0.087497,     0.13848,     0.17812,     0.21107,      0.2392,      0.2676,     0.29924,     0.32141,     0.34396,     0.36249,     0.38277,     0.40447,     0.42775,     0.44832,     0.46114,     0.47535,     0.48705,     0.50027,     0.51468,     0.52651,     0.53656,      0.5513,\n",
              "            0.55988,     0.57391,     0.58314,     0.59502,     0.60081,     0.60686,     0.61464,     0.62308,     0.63252,     0.64087,     0.64827,     0.65084,     0.65283,     0.66087,     0.66631,      0.6676,     0.67228,     0.68023,      0.6877,     0.69496,     0.70072,     0.70767,     0.71124,\n",
              "            0.71609,     0.72074,     0.72493,     0.73026,     0.73404,     0.73508,     0.73937,     0.74095,     0.74194,      0.7444,     0.74792,     0.74963,     0.75286,      0.7557,     0.75703,     0.76029,     0.76211,     0.76512,     0.76659,     0.76828,     0.76921,     0.77005,      0.7717,\n",
              "            0.77498,     0.77594,     0.77717,     0.77892,     0.78306,     0.78429,     0.78749,     0.79077,     0.79332,     0.79709,     0.79855,       0.802,     0.80537,     0.80897,     0.81038,     0.81149,     0.81351,     0.82058,      0.8202,     0.82148,     0.82207,      0.8231,     0.82484,\n",
              "            0.83034,     0.83328,     0.83379,     0.83425,     0.83471,     0.83517,     0.83563,     0.84136,     0.84257,     0.84588,     0.84747,     0.84801,     0.84856,     0.84911,     0.84966,     0.85039,     0.85123,     0.85206,     0.85218,     0.85205,     0.85192,     0.85206,     0.85248,\n",
              "            0.85291,     0.85334,     0.85376,     0.85419,     0.85482,     0.85551,     0.85621,     0.85806,     0.86294,     0.86445,     0.86483,     0.86522,      0.8656,     0.86598,     0.86637,     0.86709,     0.86894,     0.87006,     0.87106,     0.87424,      0.8743,     0.87483,     0.87535,\n",
              "            0.87588,     0.87641,     0.87807,     0.87938,     0.88011,     0.88084,     0.88156,     0.88188,     0.88214,      0.8824,     0.88266,     0.88292,     0.88318,     0.88344,     0.88369,     0.88395,     0.88421,     0.88533,     0.88671,      0.8907,     0.89225,     0.89336,     0.89447,\n",
              "            0.89748,     0.89753,     0.89747,     0.89741,     0.89736,      0.8973,     0.90001,     0.90021,     0.90041,      0.9006,      0.9008,       0.901,     0.90119,     0.90139,     0.90158,     0.90178,     0.90198,     0.90217,     0.90237,     0.90257,     0.90289,     0.90401,     0.90512,\n",
              "            0.90633,     0.90759,     0.90823,     0.90817,      0.9081,     0.90804,     0.90798,     0.90773,     0.90811,     0.90858,     0.90906,     0.90954,     0.91002,      0.9105,     0.91088,     0.91126,     0.91164,     0.91202,     0.91239,     0.91277,     0.91315,     0.91353,     0.91392,\n",
              "             0.9143,     0.91469,     0.91507,     0.91545,     0.91584,     0.91613,     0.91603,     0.91593,     0.91587,     0.91583,      0.9158,     0.91576,     0.91573,     0.91569,     0.91566,     0.91608,     0.91868,     0.91898,     0.91928,     0.91958,     0.91988,     0.92018,     0.92048,\n",
              "            0.92078,     0.92108,     0.92138,     0.92157,     0.92176,     0.92195,     0.92214,     0.92233,     0.92253,     0.92272,     0.92291,      0.9231,     0.92329,     0.92348,     0.92367,     0.92386,     0.92406,     0.92425,      0.9242,     0.92408,     0.92427,     0.92456,     0.92486,\n",
              "            0.92515,     0.92545,     0.92574,     0.92603,     0.92633,     0.92662,     0.92692,     0.92738,     0.92848,     0.92958,     0.93051,     0.93142,     0.93232,     0.93316,     0.93393,     0.93471,     0.93549,     0.93561,     0.93551,     0.93547,     0.93546,     0.93545,     0.93543,\n",
              "            0.93542,      0.9354,     0.93539,     0.93538,     0.93536,     0.93535,     0.93534,     0.93532,     0.93531,     0.93529,     0.93528,     0.93525,     0.93522,     0.93518,     0.93515,     0.93511,     0.93508,     0.93506,     0.93505,     0.93504,     0.93503,     0.93503,     0.93502,\n",
              "            0.93501,       0.935,     0.93499,     0.93499,     0.93498,     0.93497,     0.93496,     0.93495,     0.93494,     0.93494,     0.93493,     0.93492,     0.93491,      0.9349,     0.93489,     0.93489,     0.93488,     0.93487,     0.93486,     0.93485,      0.9348,     0.93474,     0.93469,\n",
              "            0.93531,      0.9377,     0.93769,     0.93767,     0.93766,     0.93765,     0.93764,     0.93762,     0.93761,      0.9376,     0.93758,     0.93757,     0.93756,     0.93755,     0.93753,     0.93752,     0.93751,     0.93808,     0.93926,     0.94044,     0.94084,     0.94113,     0.94142,\n",
              "            0.94171,     0.94199,     0.94228,     0.94257,     0.94285,     0.94314,     0.94343,     0.94371,     0.94392,     0.94412,     0.94433,     0.94453,     0.94474,     0.94494,     0.94515,     0.94535,     0.94556,     0.94576,     0.94596,     0.94617,     0.94637,     0.94658,     0.94678,\n",
              "              0.947,     0.94722,     0.94744,     0.94767,     0.94789,     0.94811,     0.94833,     0.94856,     0.94878,       0.949,     0.94922,     0.94945,     0.94967,     0.94989,     0.94999,     0.94998,     0.94996,     0.94994,     0.94993,     0.94991,     0.94989,     0.94988,     0.94986,\n",
              "            0.94985,        0.95,     0.95085,      0.9517,     0.95255,     0.95301,     0.95299,     0.95297,     0.95296,     0.95294,     0.95292,      0.9529,     0.95288,     0.95286,     0.95286,     0.95285,     0.95285,     0.95284,     0.95284,     0.95283,     0.95283,     0.95282,     0.95282,\n",
              "            0.95281,     0.95281,      0.9528,      0.9528,     0.95279,     0.95279,     0.95278,     0.95278,     0.95277,     0.95277,     0.95276,     0.95276,     0.95275,     0.95275,     0.95274,     0.95274,     0.95273,     0.95273,     0.95272,     0.95272,     0.95271,     0.95271,     0.95254,\n",
              "             0.9525,     0.95245,     0.95241,     0.95235,     0.95227,      0.9522,     0.95215,     0.95209,     0.95205,     0.95205,     0.95204,     0.95203,     0.95202,     0.95202,     0.95201,       0.952,     0.95199,     0.95199,     0.95198,     0.95197,     0.95196,     0.95196,     0.95195,\n",
              "            0.95194,     0.95193,     0.95193,     0.95192,     0.95191,     0.95191,      0.9519,     0.95189,     0.95372,     0.95531,      0.9558,     0.95628,     0.95676,     0.95724,     0.95773,     0.95821,     0.95846,     0.95842,     0.95838,     0.95835,     0.95833,     0.95832,     0.95832,\n",
              "            0.95831,     0.95831,      0.9583,      0.9583,     0.95829,     0.95829,     0.95828,     0.95827,     0.95827,     0.95826,     0.95826,     0.95825,     0.95825,     0.95824,     0.95824,     0.95823,     0.95823,     0.95822,     0.95821,     0.95821,      0.9582,      0.9582,     0.95819,\n",
              "            0.95819,     0.95817,     0.95816,     0.95815,     0.95813,     0.95812,     0.95811,     0.95809,     0.95808,     0.95807,     0.95805,      0.9581,     0.95976,      0.9614,     0.96137,     0.96134,     0.96131,     0.96128,     0.96126,     0.96125,     0.96123,     0.96122,     0.96121,\n",
              "            0.96119,     0.96118,     0.96117,     0.96115,     0.96114,     0.96113,     0.96111,     0.96109,     0.96107,     0.96105,     0.96103,     0.96101,     0.96099,     0.96098,     0.96097,     0.96096,     0.96096,     0.96095,     0.96094,     0.96093,     0.96092,     0.96091,      0.9609,\n",
              "            0.96089,     0.96088,     0.96087,     0.96086,     0.96154,     0.96319,     0.96415,     0.96412,     0.96409,     0.96406,     0.96403,     0.96397,     0.96391,     0.96389,     0.96387,     0.96385,     0.96383,     0.96381,      0.9638,     0.96378,     0.96458,     0.96669,     0.96754,\n",
              "            0.96792,      0.9683,     0.96867,     0.96905,     0.96942,      0.9698,     0.97017,     0.97055,      0.9711,     0.97202,     0.97293,     0.97385,     0.97434,     0.97429,     0.97415,     0.97411,     0.97408,     0.97464,     0.97523,     0.97582,     0.97641,       0.977,     0.97759,\n",
              "            0.97769,     0.97768,     0.97766,     0.97765,     0.97764,     0.97763,     0.97762,      0.9776,     0.97757,     0.97754,     0.97752,     0.97751,      0.9775,     0.97749,     0.97748,     0.97748,     0.97747,     0.97746,     0.97745,     0.97737,     0.98105,     0.98103,     0.98101,\n",
              "              0.981,     0.98097,     0.98095,     0.98093,     0.98088,      0.9816,     0.98293,     0.98427,      0.9846,     0.98458,     0.98456,     0.98454,     0.98452,      0.9845,     0.98449,     0.98449,     0.98448,     0.98448,     0.98447,     0.98447,     0.98447,     0.98446,     0.98446,\n",
              "            0.98445,     0.98445,     0.98444,     0.98444,     0.98443,      0.9844,     0.98438,     0.98431,      0.9843,      0.9843,     0.98429,     0.98428,     0.98428,     0.98427,     0.98426,     0.98425,     0.98593,     0.98814,     0.98812,     0.98811,     0.98808,     0.98805,     0.98802,\n",
              "              0.988,     0.98799,     0.98798,     0.98798,     0.98797,     0.98796,     0.98796,     0.98791,     0.98775,     0.98774,     0.98773,     0.98771,     0.98909,     0.99175,     0.99173,     0.99172,     0.99171,      0.9917,     0.99168,     0.99166,     0.99166,     0.99165,     0.99165,\n",
              "            0.99164,     0.99163,     0.99162,     0.99161,      0.9916,     0.99245,     0.99453,     0.99578,     0.99578,     0.99577,     0.99577,     0.99576,     0.99576,     0.99574,     0.99573,     0.99572,     0.99572,     0.99571,     0.99571,      0.9957,      0.9957,      0.9957,     0.99569,\n",
              "            0.99569,     0.99569,     0.99568,     0.99566,     0.99564,     0.99563,     0.99562,     0.99561,     0.99559,     0.99557,     0.99556,     0.99556,     0.99555,     0.99554,     0.99553,     0.99553,     0.99552,     0.99552,     0.99551,      0.9955,     0.99549,     0.99548,     0.99544,\n",
              "            0.99543,     0.99543,     0.99543,     0.99542,     0.99542,     0.99541,     0.99721,           1,           1,           1,           1,           1,           1,           1,           1,           1,           1,           1,           1,           1,           1,           1,           1,\n",
              "                  1,           1,           1,           1,           1,           1,           1,           1,           1,           1,           1,           1,           1,           1,           1,           1,           1,           1,           1,           1,           1,           1,           1,\n",
              "                  1,           1,           1,           1,           1,           1,           1,           1,           1,           1,           1,           1,           1,           1,           1,           1,           1,           1,           1,           1,           1,           1,           1,\n",
              "                  1,           1,           1,           1,           1,           1,           1,           1,           1,           1,           1,           1,           1,           1,           1,           1,           1,           1,           1,           1,           1,           1,           1,\n",
              "                  1,           1,           1,           1,           1,           1,           1,           1,           1,           1,           1,           1,           1,           1,           1,           1,           1,           1,           1,           1,           1,           1,           1,\n",
              "                  1,           1,           1,           1,           1,           1,           1,           1,           1,           1,           1,           1,           1,           1,           1,           1,           1,           1,           1,           1,           1,           1,           1,\n",
              "                  1,           1,           1,           1,           1,           1,           1,           1,           1,           1,           1,           1,           1,           1,           1,           1,           1,           1,           1,           1,           1,           1,           1,\n",
              "                  1,           1,           1,           1,           1,           1,           1,           1,           1,           1,           1,           1,           1,           1,           1,           1,           1,           1,           1,           1,           1,           1,           1,\n",
              "                  1,           1,           1,           1,           1,           1,           1,           1,           1,           1,           1,           1,           1,           1,           1,           1,           1,           1,           1,           1,           1,           1,           1,\n",
              "                  1,           1,           1,           1,           1,           1,           1,           1,           1,           1,           1,           1,           1,           1,           1,           1,           1,           1,           1,           1,           1,           1,           1,\n",
              "                  1,           1,           1,           1,           1,           1,           1,           1,           1,           1,           1,           1,           1,           1,           1,           1,           1,           1,           1,           1,           1,           1,           1,\n",
              "                  1,           1,           1,           1,           1,           1,           1,           1,           1,           1,           1]]), 'Confidence', 'Precision'], [array([          0,    0.001001,    0.002002,    0.003003,    0.004004,    0.005005,    0.006006,    0.007007,    0.008008,    0.009009,     0.01001,    0.011011,    0.012012,    0.013013,    0.014014,    0.015015,    0.016016,    0.017017,    0.018018,    0.019019,     0.02002,    0.021021,    0.022022,    0.023023,\n",
              "          0.024024,    0.025025,    0.026026,    0.027027,    0.028028,    0.029029,     0.03003,    0.031031,    0.032032,    0.033033,    0.034034,    0.035035,    0.036036,    0.037037,    0.038038,    0.039039,     0.04004,    0.041041,    0.042042,    0.043043,    0.044044,    0.045045,    0.046046,    0.047047,\n",
              "          0.048048,    0.049049,     0.05005,    0.051051,    0.052052,    0.053053,    0.054054,    0.055055,    0.056056,    0.057057,    0.058058,    0.059059,     0.06006,    0.061061,    0.062062,    0.063063,    0.064064,    0.065065,    0.066066,    0.067067,    0.068068,    0.069069,     0.07007,    0.071071,\n",
              "          0.072072,    0.073073,    0.074074,    0.075075,    0.076076,    0.077077,    0.078078,    0.079079,     0.08008,    0.081081,    0.082082,    0.083083,    0.084084,    0.085085,    0.086086,    0.087087,    0.088088,    0.089089,     0.09009,    0.091091,    0.092092,    0.093093,    0.094094,    0.095095,\n",
              "          0.096096,    0.097097,    0.098098,    0.099099,      0.1001,      0.1011,      0.1021,      0.1031,      0.1041,     0.10511,     0.10611,     0.10711,     0.10811,     0.10911,     0.11011,     0.11111,     0.11211,     0.11311,     0.11411,     0.11512,     0.11612,     0.11712,     0.11812,     0.11912,\n",
              "           0.12012,     0.12112,     0.12212,     0.12312,     0.12412,     0.12513,     0.12613,     0.12713,     0.12813,     0.12913,     0.13013,     0.13113,     0.13213,     0.13313,     0.13413,     0.13514,     0.13614,     0.13714,     0.13814,     0.13914,     0.14014,     0.14114,     0.14214,     0.14314,\n",
              "           0.14414,     0.14515,     0.14615,     0.14715,     0.14815,     0.14915,     0.15015,     0.15115,     0.15215,     0.15315,     0.15415,     0.15516,     0.15616,     0.15716,     0.15816,     0.15916,     0.16016,     0.16116,     0.16216,     0.16316,     0.16416,     0.16517,     0.16617,     0.16717,\n",
              "           0.16817,     0.16917,     0.17017,     0.17117,     0.17217,     0.17317,     0.17417,     0.17518,     0.17618,     0.17718,     0.17818,     0.17918,     0.18018,     0.18118,     0.18218,     0.18318,     0.18418,     0.18519,     0.18619,     0.18719,     0.18819,     0.18919,     0.19019,     0.19119,\n",
              "           0.19219,     0.19319,     0.19419,      0.1952,      0.1962,      0.1972,      0.1982,      0.1992,      0.2002,      0.2012,      0.2022,      0.2032,      0.2042,     0.20521,     0.20621,     0.20721,     0.20821,     0.20921,     0.21021,     0.21121,     0.21221,     0.21321,     0.21421,     0.21522,\n",
              "           0.21622,     0.21722,     0.21822,     0.21922,     0.22022,     0.22122,     0.22222,     0.22322,     0.22422,     0.22523,     0.22623,     0.22723,     0.22823,     0.22923,     0.23023,     0.23123,     0.23223,     0.23323,     0.23423,     0.23524,     0.23624,     0.23724,     0.23824,     0.23924,\n",
              "           0.24024,     0.24124,     0.24224,     0.24324,     0.24424,     0.24525,     0.24625,     0.24725,     0.24825,     0.24925,     0.25025,     0.25125,     0.25225,     0.25325,     0.25425,     0.25526,     0.25626,     0.25726,     0.25826,     0.25926,     0.26026,     0.26126,     0.26226,     0.26326,\n",
              "           0.26426,     0.26527,     0.26627,     0.26727,     0.26827,     0.26927,     0.27027,     0.27127,     0.27227,     0.27327,     0.27427,     0.27528,     0.27628,     0.27728,     0.27828,     0.27928,     0.28028,     0.28128,     0.28228,     0.28328,     0.28428,     0.28529,     0.28629,     0.28729,\n",
              "           0.28829,     0.28929,     0.29029,     0.29129,     0.29229,     0.29329,     0.29429,      0.2953,      0.2963,      0.2973,      0.2983,      0.2993,      0.3003,      0.3013,      0.3023,      0.3033,      0.3043,     0.30531,     0.30631,     0.30731,     0.30831,     0.30931,     0.31031,     0.31131,\n",
              "           0.31231,     0.31331,     0.31431,     0.31532,     0.31632,     0.31732,     0.31832,     0.31932,     0.32032,     0.32132,     0.32232,     0.32332,     0.32432,     0.32533,     0.32633,     0.32733,     0.32833,     0.32933,     0.33033,     0.33133,     0.33233,     0.33333,     0.33433,     0.33534,\n",
              "           0.33634,     0.33734,     0.33834,     0.33934,     0.34034,     0.34134,     0.34234,     0.34334,     0.34434,     0.34535,     0.34635,     0.34735,     0.34835,     0.34935,     0.35035,     0.35135,     0.35235,     0.35335,     0.35435,     0.35536,     0.35636,     0.35736,     0.35836,     0.35936,\n",
              "           0.36036,     0.36136,     0.36236,     0.36336,     0.36436,     0.36537,     0.36637,     0.36737,     0.36837,     0.36937,     0.37037,     0.37137,     0.37237,     0.37337,     0.37437,     0.37538,     0.37638,     0.37738,     0.37838,     0.37938,     0.38038,     0.38138,     0.38238,     0.38338,\n",
              "           0.38438,     0.38539,     0.38639,     0.38739,     0.38839,     0.38939,     0.39039,     0.39139,     0.39239,     0.39339,     0.39439,      0.3954,      0.3964,      0.3974,      0.3984,      0.3994,      0.4004,      0.4014,      0.4024,      0.4034,      0.4044,     0.40541,     0.40641,     0.40741,\n",
              "           0.40841,     0.40941,     0.41041,     0.41141,     0.41241,     0.41341,     0.41441,     0.41542,     0.41642,     0.41742,     0.41842,     0.41942,     0.42042,     0.42142,     0.42242,     0.42342,     0.42442,     0.42543,     0.42643,     0.42743,     0.42843,     0.42943,     0.43043,     0.43143,\n",
              "           0.43243,     0.43343,     0.43443,     0.43544,     0.43644,     0.43744,     0.43844,     0.43944,     0.44044,     0.44144,     0.44244,     0.44344,     0.44444,     0.44545,     0.44645,     0.44745,     0.44845,     0.44945,     0.45045,     0.45145,     0.45245,     0.45345,     0.45445,     0.45546,\n",
              "           0.45646,     0.45746,     0.45846,     0.45946,     0.46046,     0.46146,     0.46246,     0.46346,     0.46446,     0.46547,     0.46647,     0.46747,     0.46847,     0.46947,     0.47047,     0.47147,     0.47247,     0.47347,     0.47447,     0.47548,     0.47648,     0.47748,     0.47848,     0.47948,\n",
              "           0.48048,     0.48148,     0.48248,     0.48348,     0.48448,     0.48549,     0.48649,     0.48749,     0.48849,     0.48949,     0.49049,     0.49149,     0.49249,     0.49349,     0.49449,      0.4955,      0.4965,      0.4975,      0.4985,      0.4995,      0.5005,      0.5015,      0.5025,      0.5035,\n",
              "            0.5045,     0.50551,     0.50651,     0.50751,     0.50851,     0.50951,     0.51051,     0.51151,     0.51251,     0.51351,     0.51451,     0.51552,     0.51652,     0.51752,     0.51852,     0.51952,     0.52052,     0.52152,     0.52252,     0.52352,     0.52452,     0.52553,     0.52653,     0.52753,\n",
              "           0.52853,     0.52953,     0.53053,     0.53153,     0.53253,     0.53353,     0.53453,     0.53554,     0.53654,     0.53754,     0.53854,     0.53954,     0.54054,     0.54154,     0.54254,     0.54354,     0.54454,     0.54555,     0.54655,     0.54755,     0.54855,     0.54955,     0.55055,     0.55155,\n",
              "           0.55255,     0.55355,     0.55455,     0.55556,     0.55656,     0.55756,     0.55856,     0.55956,     0.56056,     0.56156,     0.56256,     0.56356,     0.56456,     0.56557,     0.56657,     0.56757,     0.56857,     0.56957,     0.57057,     0.57157,     0.57257,     0.57357,     0.57457,     0.57558,\n",
              "           0.57658,     0.57758,     0.57858,     0.57958,     0.58058,     0.58158,     0.58258,     0.58358,     0.58458,     0.58559,     0.58659,     0.58759,     0.58859,     0.58959,     0.59059,     0.59159,     0.59259,     0.59359,     0.59459,      0.5956,      0.5966,      0.5976,      0.5986,      0.5996,\n",
              "            0.6006,      0.6016,      0.6026,      0.6036,      0.6046,     0.60561,     0.60661,     0.60761,     0.60861,     0.60961,     0.61061,     0.61161,     0.61261,     0.61361,     0.61461,     0.61562,     0.61662,     0.61762,     0.61862,     0.61962,     0.62062,     0.62162,     0.62262,     0.62362,\n",
              "           0.62462,     0.62563,     0.62663,     0.62763,     0.62863,     0.62963,     0.63063,     0.63163,     0.63263,     0.63363,     0.63463,     0.63564,     0.63664,     0.63764,     0.63864,     0.63964,     0.64064,     0.64164,     0.64264,     0.64364,     0.64464,     0.64565,     0.64665,     0.64765,\n",
              "           0.64865,     0.64965,     0.65065,     0.65165,     0.65265,     0.65365,     0.65465,     0.65566,     0.65666,     0.65766,     0.65866,     0.65966,     0.66066,     0.66166,     0.66266,     0.66366,     0.66466,     0.66567,     0.66667,     0.66767,     0.66867,     0.66967,     0.67067,     0.67167,\n",
              "           0.67267,     0.67367,     0.67467,     0.67568,     0.67668,     0.67768,     0.67868,     0.67968,     0.68068,     0.68168,     0.68268,     0.68368,     0.68468,     0.68569,     0.68669,     0.68769,     0.68869,     0.68969,     0.69069,     0.69169,     0.69269,     0.69369,     0.69469,      0.6957,\n",
              "            0.6967,      0.6977,      0.6987,      0.6997,      0.7007,      0.7017,      0.7027,      0.7037,      0.7047,     0.70571,     0.70671,     0.70771,     0.70871,     0.70971,     0.71071,     0.71171,     0.71271,     0.71371,     0.71471,     0.71572,     0.71672,     0.71772,     0.71872,     0.71972,\n",
              "           0.72072,     0.72172,     0.72272,     0.72372,     0.72472,     0.72573,     0.72673,     0.72773,     0.72873,     0.72973,     0.73073,     0.73173,     0.73273,     0.73373,     0.73473,     0.73574,     0.73674,     0.73774,     0.73874,     0.73974,     0.74074,     0.74174,     0.74274,     0.74374,\n",
              "           0.74474,     0.74575,     0.74675,     0.74775,     0.74875,     0.74975,     0.75075,     0.75175,     0.75275,     0.75375,     0.75475,     0.75576,     0.75676,     0.75776,     0.75876,     0.75976,     0.76076,     0.76176,     0.76276,     0.76376,     0.76476,     0.76577,     0.76677,     0.76777,\n",
              "           0.76877,     0.76977,     0.77077,     0.77177,     0.77277,     0.77377,     0.77477,     0.77578,     0.77678,     0.77778,     0.77878,     0.77978,     0.78078,     0.78178,     0.78278,     0.78378,     0.78478,     0.78579,     0.78679,     0.78779,     0.78879,     0.78979,     0.79079,     0.79179,\n",
              "           0.79279,     0.79379,     0.79479,      0.7958,      0.7968,      0.7978,      0.7988,      0.7998,      0.8008,      0.8018,      0.8028,      0.8038,      0.8048,     0.80581,     0.80681,     0.80781,     0.80881,     0.80981,     0.81081,     0.81181,     0.81281,     0.81381,     0.81481,     0.81582,\n",
              "           0.81682,     0.81782,     0.81882,     0.81982,     0.82082,     0.82182,     0.82282,     0.82382,     0.82482,     0.82583,     0.82683,     0.82783,     0.82883,     0.82983,     0.83083,     0.83183,     0.83283,     0.83383,     0.83483,     0.83584,     0.83684,     0.83784,     0.83884,     0.83984,\n",
              "           0.84084,     0.84184,     0.84284,     0.84384,     0.84484,     0.84585,     0.84685,     0.84785,     0.84885,     0.84985,     0.85085,     0.85185,     0.85285,     0.85385,     0.85485,     0.85586,     0.85686,     0.85786,     0.85886,     0.85986,     0.86086,     0.86186,     0.86286,     0.86386,\n",
              "           0.86486,     0.86587,     0.86687,     0.86787,     0.86887,     0.86987,     0.87087,     0.87187,     0.87287,     0.87387,     0.87487,     0.87588,     0.87688,     0.87788,     0.87888,     0.87988,     0.88088,     0.88188,     0.88288,     0.88388,     0.88488,     0.88589,     0.88689,     0.88789,\n",
              "           0.88889,     0.88989,     0.89089,     0.89189,     0.89289,     0.89389,     0.89489,      0.8959,      0.8969,      0.8979,      0.8989,      0.8999,      0.9009,      0.9019,      0.9029,      0.9039,      0.9049,     0.90591,     0.90691,     0.90791,     0.90891,     0.90991,     0.91091,     0.91191,\n",
              "           0.91291,     0.91391,     0.91491,     0.91592,     0.91692,     0.91792,     0.91892,     0.91992,     0.92092,     0.92192,     0.92292,     0.92392,     0.92492,     0.92593,     0.92693,     0.92793,     0.92893,     0.92993,     0.93093,     0.93193,     0.93293,     0.93393,     0.93493,     0.93594,\n",
              "           0.93694,     0.93794,     0.93894,     0.93994,     0.94094,     0.94194,     0.94294,     0.94394,     0.94494,     0.94595,     0.94695,     0.94795,     0.94895,     0.94995,     0.95095,     0.95195,     0.95295,     0.95395,     0.95495,     0.95596,     0.95696,     0.95796,     0.95896,     0.95996,\n",
              "           0.96096,     0.96196,     0.96296,     0.96396,     0.96496,     0.96597,     0.96697,     0.96797,     0.96897,     0.96997,     0.97097,     0.97197,     0.97297,     0.97397,     0.97497,     0.97598,     0.97698,     0.97798,     0.97898,     0.97998,     0.98098,     0.98198,     0.98298,     0.98398,\n",
              "           0.98498,     0.98599,     0.98699,     0.98799,     0.98899,     0.98999,     0.99099,     0.99199,     0.99299,     0.99399,     0.99499,       0.996,       0.997,       0.998,       0.999,           1]), array([[    0.96573,     0.96573,     0.96262,      0.9595,     0.95639,     0.95639,     0.95639,     0.95639,     0.95639,     0.95639,     0.95327,     0.95327,     0.95016,     0.95016,     0.95016,     0.94704,     0.94704,     0.94704,     0.94704,     0.94704,     0.94704,     0.94704,     0.94704,\n",
              "            0.94704,     0.94704,     0.94704,     0.94704,     0.94704,     0.94704,     0.94704,     0.94704,     0.94704,     0.94704,     0.94704,     0.94704,     0.94704,     0.94704,     0.94704,     0.94704,     0.94704,     0.94704,     0.94393,     0.94393,     0.94393,     0.94393,     0.94393,\n",
              "            0.94393,     0.94393,     0.94393,     0.94393,     0.94393,     0.94393,     0.94393,     0.94393,     0.94393,     0.94393,     0.94393,     0.94393,     0.94393,     0.94393,     0.94393,     0.94393,     0.94393,     0.94081,     0.94081,     0.94081,     0.94081,     0.94081,     0.94081,\n",
              "            0.94081,     0.94081,     0.94081,     0.94081,     0.94081,     0.94081,     0.94081,     0.94081,     0.94081,     0.94081,     0.94081,     0.94081,     0.94081,     0.94081,     0.94081,     0.94081,     0.94081,     0.94034,      0.9379,     0.93769,     0.93556,     0.93458,     0.93458,\n",
              "            0.93458,     0.93458,     0.93458,     0.93458,     0.93458,     0.93458,     0.93458,     0.93458,     0.93458,     0.93458,     0.93458,     0.93458,     0.93458,     0.93458,     0.93458,     0.93458,     0.93458,     0.93458,     0.93387,     0.93291,     0.93196,     0.93146,     0.93146,\n",
              "            0.93146,     0.93146,     0.93146,     0.93146,     0.93146,     0.93146,     0.93146,     0.93146,     0.93146,     0.93146,     0.93146,     0.93146,     0.93146,     0.93146,     0.93146,     0.93146,     0.93146,     0.93146,     0.93146,     0.93123,     0.92835,     0.92835,     0.92835,\n",
              "            0.92835,     0.92835,     0.92835,     0.92835,     0.92835,     0.92835,     0.92835,     0.92835,     0.92835,     0.92835,     0.92835,     0.92835,     0.92835,     0.92835,     0.92835,     0.92835,     0.92835,     0.92835,     0.92835,     0.92835,     0.92835,     0.92835,     0.92835,\n",
              "            0.92835,     0.92777,     0.92717,     0.92658,     0.92598,     0.92539,     0.92523,     0.92523,     0.92523,     0.92523,     0.92523,     0.92523,     0.92523,     0.92523,     0.92523,     0.92523,     0.92523,     0.92523,     0.92523,     0.92523,     0.92523,     0.92523,     0.92523,\n",
              "            0.92523,     0.92523,     0.92491,     0.92422,     0.92353,     0.92284,     0.92214,     0.91939,       0.919,       0.919,       0.919,       0.919,       0.919,       0.919,       0.919,       0.919,       0.919,       0.919,       0.919,       0.919,       0.919,       0.919,       0.919,\n",
              "              0.919,       0.919,       0.919,       0.919,       0.919,     0.91878,     0.91759,     0.91639,     0.91565,     0.91523,     0.91482,      0.9144,     0.91399,     0.91357,     0.91316,     0.91277,     0.91277,     0.91277,     0.91277,     0.91277,     0.91277,     0.91277,     0.91277,\n",
              "            0.91277,     0.91277,     0.91277,     0.91277,     0.91277,     0.91277,     0.91277,     0.91277,     0.91277,     0.91277,     0.91277,     0.91277,     0.91277,     0.91277,     0.91277,     0.91277,     0.91277,     0.91277,     0.91158,     0.91004,     0.90966,     0.90966,     0.90966,\n",
              "            0.90966,     0.90966,     0.90966,     0.90966,     0.90966,     0.90966,     0.90966,     0.90654,     0.90654,     0.90654,     0.90654,     0.90654,     0.90654,     0.90654,     0.90654,     0.90654,     0.90654,     0.90536,     0.90376,     0.90326,     0.90306,     0.90285,     0.90265,\n",
              "            0.90244,     0.90224,     0.90203,     0.90183,     0.90163,     0.90142,     0.90122,     0.90101,     0.90081,      0.9006,      0.9004,         0.9,     0.89947,     0.89894,     0.89841,     0.89788,     0.89736,     0.89711,     0.89699,     0.89687,     0.89675,     0.89663,     0.89651,\n",
              "            0.89639,     0.89626,     0.89614,     0.89602,      0.8959,     0.89578,     0.89566,     0.89554,     0.89542,      0.8953,     0.89517,     0.89505,     0.89493,     0.89481,     0.89469,     0.89457,     0.89445,     0.89433,     0.89421,     0.89409,     0.89329,     0.89247,     0.89165,\n",
              "            0.89097,     0.89088,     0.89069,     0.89049,     0.89029,      0.8901,      0.8899,     0.88971,     0.88951,     0.88932,     0.88912,     0.88893,     0.88873,     0.88854,     0.88834,     0.88814,     0.88795,     0.88785,     0.88785,     0.88785,     0.88785,     0.88785,     0.88785,\n",
              "            0.88785,     0.88785,     0.88785,     0.88785,     0.88785,     0.88785,     0.88785,     0.88785,     0.88785,     0.88785,     0.88785,     0.88785,     0.88785,     0.88785,     0.88785,     0.88785,     0.88785,     0.88785,     0.88785,     0.88785,     0.88785,     0.88785,     0.88785,\n",
              "            0.88785,     0.88785,     0.88785,     0.88785,     0.88785,     0.88785,     0.88785,     0.88785,     0.88785,     0.88785,     0.88785,     0.88785,     0.88785,     0.88785,      0.8877,     0.88739,     0.88709,     0.88679,     0.88649,     0.88619,     0.88588,     0.88558,     0.88528,\n",
              "            0.88498,     0.88474,     0.88474,     0.88474,     0.88474,     0.88457,      0.8842,     0.88384,     0.88347,     0.88311,     0.88274,     0.88238,     0.88201,     0.88165,     0.88153,     0.88143,     0.88133,     0.88123,     0.88113,     0.88104,     0.88094,     0.88084,     0.88074,\n",
              "            0.88064,     0.88054,     0.88044,     0.88035,     0.88025,     0.88015,     0.88005,     0.87995,     0.87985,     0.87976,     0.87966,     0.87956,     0.87946,     0.87936,     0.87926,     0.87916,     0.87907,     0.87897,     0.87887,     0.87877,     0.87867,     0.87857,     0.87536,\n",
              "            0.87452,     0.87368,     0.87283,     0.87176,     0.87022,     0.86884,     0.86779,     0.86674,       0.866,     0.86586,     0.86572,     0.86558,     0.86544,      0.8653,     0.86516,     0.86503,     0.86489,     0.86475,     0.86461,     0.86447,     0.86433,     0.86419,     0.86405,\n",
              "            0.86391,     0.86378,     0.86364,      0.8635,     0.86336,     0.86322,     0.86308,     0.86294,     0.86293,     0.86293,     0.86293,     0.86293,     0.86293,     0.86293,     0.86293,     0.86293,     0.86256,     0.86174,     0.86092,      0.8601,     0.85974,     0.85962,      0.8595,\n",
              "            0.85938,     0.85927,     0.85915,     0.85903,     0.85891,     0.85879,     0.85868,     0.85856,     0.85844,     0.85832,     0.85821,     0.85809,     0.85797,     0.85785,     0.85774,     0.85762,      0.8575,     0.85738,     0.85727,     0.85715,     0.85703,     0.85691,     0.85679,\n",
              "            0.85665,     0.85637,     0.85609,     0.85581,     0.85553,     0.85525,     0.85497,     0.85469,     0.85441,     0.85413,     0.85385,     0.85358,     0.85358,     0.85357,     0.85285,     0.85212,      0.8514,     0.85068,     0.85026,     0.84996,     0.84966,     0.84936,     0.84906,\n",
              "            0.84876,     0.84847,     0.84817,     0.84787,     0.84757,     0.84724,     0.84681,     0.84639,     0.84596,     0.84554,     0.84511,     0.84469,     0.84426,     0.84404,     0.84382,     0.84361,     0.84339,     0.84318,     0.84296,     0.84275,     0.84253,     0.84232,      0.8421,\n",
              "            0.84189,     0.84168,     0.84146,     0.84125,     0.84112,     0.84112,     0.83786,     0.83713,      0.8364,     0.83566,     0.83493,     0.83354,     0.83211,     0.83145,     0.83103,     0.83061,     0.83019,     0.82976,     0.82934,     0.82892,     0.82866,     0.82866,     0.82866,\n",
              "            0.82866,     0.82866,     0.82866,     0.82866,     0.82866,     0.82866,     0.82866,     0.82866,     0.82866,     0.82866,     0.82866,     0.82866,     0.82793,     0.82628,     0.82177,     0.82056,     0.81936,     0.81931,     0.81931,     0.81931,     0.81931,     0.81931,     0.81931,\n",
              "            0.81897,     0.81856,     0.81815,     0.81774,     0.81732,     0.81691,      0.8165,     0.81586,     0.81463,     0.81339,     0.81283,     0.81249,     0.81216,     0.81182,     0.81148,     0.81115,     0.81081,     0.81047,     0.81014,      0.8074,     0.80632,     0.80555,     0.80479,\n",
              "            0.80402,     0.80311,     0.80211,     0.80111,     0.79894,     0.79751,     0.79751,     0.79751,     0.79675,     0.79572,      0.7947,     0.79353,     0.79229,     0.79124,     0.79101,     0.79079,     0.79057,     0.79034,     0.79012,      0.7899,     0.78967,     0.78945,     0.78923,\n",
              "              0.789,     0.78878,     0.78855,     0.78833,     0.78783,     0.78647,     0.78511,     0.78173,     0.78138,     0.78103,     0.78069,     0.78034,     0.77999,     0.77965,      0.7793,     0.77895,     0.77882,     0.77861,     0.77753,     0.77645,     0.77499,     0.77265,     0.77052,\n",
              "            0.76925,     0.76881,     0.76836,     0.76792,     0.76748,     0.76704,      0.7666,     0.76347,     0.75373,     0.75295,     0.75216,     0.75138,     0.75078,     0.74869,     0.74704,     0.74619,     0.74534,     0.74444,     0.74271,     0.74128,     0.74071,     0.74014,     0.73957,\n",
              "              0.739,     0.73844,     0.73759,     0.73667,     0.73575,      0.7352,      0.7352,     0.73495,     0.73432,     0.73369,     0.73306,     0.73243,     0.73113,     0.72901,     0.72584,     0.72495,     0.72405,     0.72316,     0.72247,     0.72197,     0.72147,     0.72097,     0.72047,\n",
              "            0.71997,     0.71913,     0.71756,     0.71508,      0.7111,     0.70914,     0.70769,     0.70575,     0.70278,     0.70028,     0.69928,     0.69829,     0.69711,     0.69576,     0.69453,     0.69373,     0.69293,     0.69213,     0.69101,     0.68925,      0.6875,     0.68576,     0.68072,\n",
              "              0.679,     0.67845,     0.67789,     0.67733,     0.67678,     0.67622,     0.67601,       0.676,     0.67504,     0.67408,     0.67312,     0.67162,     0.66995,     0.66869,     0.66746,     0.66548,     0.66015,     0.65883,      0.6575,      0.6568,     0.65621,     0.65561,     0.65502,\n",
              "            0.65442,     0.64952,     0.64735,     0.64643,     0.64552,     0.64463,     0.64382,     0.64301,     0.64219,     0.64159,     0.64125,     0.64091,     0.64057,     0.64023,     0.63989,     0.63955,     0.63921,     0.63887,     0.63577,     0.63291,     0.62641,     0.62458,     0.62292,\n",
              "            0.62163,     0.62034,     0.61953,     0.61895,     0.61836,     0.61778,     0.61719,     0.61597,     0.61267,     0.60961,     0.60859,     0.60756,     0.60413,     0.60312,     0.60212,     0.60117,     0.60057,     0.59998,     0.59938,     0.59879,     0.59819,     0.59483,     0.59434,\n",
              "            0.59384,     0.59334,     0.59285,     0.59235,     0.59183,     0.59107,     0.59031,     0.58955,     0.58879,      0.5853,     0.58402,     0.58275,     0.57948,     0.57765,     0.57573,     0.57346,     0.57044,     0.56637,     0.56565,     0.56493,     0.56421,     0.56268,     0.55829,\n",
              "            0.55521,      0.5542,     0.55375,     0.55331,     0.55287,     0.55243,     0.55199,     0.55155,     0.55053,     0.54922,     0.54191,     0.54041,      0.5389,     0.53703,     0.53435,     0.52646,     0.52591,     0.52535,     0.52479,     0.52424,     0.52368,     0.52282,     0.52156,\n",
              "             0.5203,     0.51384,     0.51286,     0.51188,     0.51091,     0.50464,     0.50169,     0.49793,     0.49493,     0.49403,     0.49313,     0.49224,      0.4894,     0.48575,     0.48332,     0.47866,     0.47714,     0.47389,     0.46773,     0.46081,       0.454,     0.44947,     0.44731,\n",
              "            0.44558,     0.43852,     0.43438,     0.42437,     0.41798,     0.41239,      0.4059,     0.40224,     0.39778,     0.39586,     0.39012,     0.38689,     0.38183,     0.37387,     0.36694,     0.35815,     0.34746,     0.34511,     0.34371,     0.33609,     0.32935,     0.32735,     0.31807,\n",
              "             0.3074,     0.30383,     0.29306,     0.29034,     0.28583,     0.28205,     0.27974,     0.27735,      0.2749,     0.26957,     0.26449,     0.26104,     0.25758,     0.25173,     0.24253,     0.23973,     0.23903,     0.23832,     0.23762,     0.23692,     0.22597,     0.22164,     0.21758,\n",
              "            0.21606,     0.21024,     0.20297,     0.19946,     0.19797,     0.19653,     0.19167,     0.18673,     0.17747,     0.17505,     0.16836,     0.16551,     0.16398,     0.16266,     0.15768,     0.15227,     0.15049,     0.14519,      0.1425,     0.14023,     0.13551,     0.13065,     0.12865,\n",
              "            0.12721,     0.12627,     0.12533,     0.12416,     0.12232,     0.11868,     0.11454,     0.11249,     0.10406,    0.098826,    0.094606,    0.087496,    0.085312,    0.082791,    0.078443,     0.07322,    0.071207,    0.069506,    0.055829,    0.046727,    0.045915,    0.045103,    0.044291,\n",
              "           0.043004,     0.03888,    0.034481,    0.030575,    0.029935,    0.029294,    0.028654,    0.027888,    0.024609,     0.02344,    0.022271,     0.02118,    0.020141,    0.019101,    0.017243,     0.01435,    0.011128,   0.0087161,   0.0065257,           0,           0,           0,           0,\n",
              "                  0,           0,           0,           0,           0,           0,           0,           0,           0,           0,           0]]), 'Confidence', 'Recall']]\n",
              "fitness: np.float64(0.7882166291394723)\n",
              "keys: ['metrics/precision(B)', 'metrics/recall(B)', 'metrics/mAP50(B)', 'metrics/mAP50-95(B)']\n",
              "maps: array([    0.77105,     0.77105])\n",
              "names: {0: '-', 1: 'walk-cross - v1 2024-05-20 8-51am'}\n",
              "nt_per_class: array([  0, 321])\n",
              "nt_per_image: array([  0, 273])\n",
              "results_dict: {'metrics/precision(B)': np.float64(0.9242708089212028), 'metrics/recall(B)': np.float64(0.9096573208722741), 'metrics/mAP50(B)': np.float64(0.9427362946099744), 'metrics/mAP50-95(B)': np.float64(0.7710477774205275), 'fitness': np.float64(0.7882166291394723)}\n",
              "save_dir: PosixPath('runs/detect/result')\n",
              "speed: {'preprocess': 0.6845381318644519, 'inference': 54.66679788277538, 'loss': 5.805494242766531e-05, 'postprocess': 1.1460678131884494}\n",
              "stats: {'tp': [], 'conf': [], 'pred_cls': [], 'target_cls': [], 'target_img': []}\n",
              "task: 'detect'"
            ]
          },
          "execution_count": 5,
          "metadata": {},
          "output_type": "execute_result"
        }
      ],
      "source": [
        "from ultralytics import YOLO\n",
        "\n",
        "\n",
        "model = YOLO(\"yolov8n.pt\")\n",
        "model.train(\n",
        "    data=\"/Data_crossing_Augment-1/data.yaml\",\n",
        "    epochs=10,\n",
        "    imgsz=640,\n",
        "    batch=16,\n",
        "    name=\"result\"\n",
        ")\n"
      ]
    }
  ],
  "metadata": {
    "accelerator": "TPU",
    "colab": {
      "gpuType": "V28",
      "provenance": []
    },
    "kernelspec": {
      "display_name": "Python 3",
      "name": "python3"
    },
    "language_info": {
      "name": "python"
    }
  },
  "nbformat": 4,
  "nbformat_minor": 0
}
